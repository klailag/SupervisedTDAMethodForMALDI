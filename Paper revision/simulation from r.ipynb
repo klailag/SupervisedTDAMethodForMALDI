{
 "cells": [
  {
   "cell_type": "code",
   "execution_count": 3,
   "id": "f7f3563b",
   "metadata": {},
   "outputs": [],
   "source": [
    "import numpy as np\n",
    "import random\n",
    "import matplotlib.pyplot as plt\n",
    "import math\n",
    "import pandas as pd\n",
    "import rdata"
   ]
  },
  {
   "cell_type": "code",
   "execution_count": 4,
   "id": "e717a03b",
   "metadata": {},
   "outputs": [],
   "source": [
    "def create_maldi_image(spectra_list):\n",
    "    # Get the dimensions of the image\n",
    "    n = int(math.sqrt(len(spectra_list)))\n",
    "    # Create an empty numpy array to store the maldi image\n",
    "    maldi_image = np.zeros((n, n))\n",
    "    \n",
    "    # Loop over each pixel in the image and assign the corresponding spectra\n",
    "    for row in range(n):\n",
    "        for col in range(n):\n",
    "            avg_value = np.sum(spectra_list[row * n + col]) / len(spectra_list[row * n + col])\n",
    "            #maldi_image[row, col] = int(avg_value * 255)\n",
    "            maldi_image[row, col] = np.round(avg_value * 255).astype(np.uint8)\n",
    "            \n",
    "    return maldi_image"
   ]
  },
  {
   "cell_type": "code",
   "execution_count": 5,
   "id": "970eade0",
   "metadata": {},
   "outputs": [],
   "source": [
    "def plot_image(image):\n",
    "    plt.imshow(image, cmap='gray')\n",
    "    plt.axis('off')\n",
    "    plt.show()"
   ]
  },
  {
   "cell_type": "code",
   "execution_count": 80,
   "id": "fb7e8d36",
   "metadata": {},
   "outputs": [],
   "source": [
    "def recursionStart(spectra):\n",
    "    featurePairs = []\n",
    "    maxima = []\n",
    "    minima = []\n",
    "    \n",
    "    for i in range(1, len(spectra) - 1):\n",
    "        if spectra[i] > spectra[i-1]:\n",
    "            if spectra[i] >= spectra[i+1]:\n",
    "                for j in range(i+1, len(spectra)):\n",
    "                    if spectra[i] > spectra[j]:\n",
    "                        maxima.append([i, spectra[i]])\n",
    "                        break\n",
    "                    elif spectra[i] < spectra[j]:\n",
    "                        break\n",
    "        if spectra[i] < spectra[i-1]:\n",
    "            if spectra[i] <= spectra[i+1]:\n",
    "                for j in range(i+1, len(spectra)):\n",
    "                    if spectra[i] < spectra[j]:\n",
    "                        minima.append([i, spectra[i]])\n",
    "                        break\n",
    "                    elif spectra[i] > spectra[j]:\n",
    "                        break\n",
    "    maxima.sort(key = lambda element: element[1], reverse = True)\n",
    "    minima.sort(key = lambda element: element[1])\n",
    "    \n",
    "    if len(maxima) == 0:\n",
    "        return -1\n",
    "    globalMaxima = maxima.pop(0)\n",
    "    featurePairs.append([globalMaxima[0], globalMaxima[1] - minima[0][1]])\n",
    "    \n",
    "    recursionStep(0, globalMaxima[0], maxima.copy(), minima.copy(), featurePairs)\n",
    "    recursionStep(len(spectra) - 1, globalMaxima[0], maxima.copy(), minima.copy(), featurePairs)\n",
    "    \n",
    "    return featurePairs\n",
    "\n",
    "def recursionStep(start, end, maxima, minima, featurePairs):\n",
    "    factor = 1\n",
    "    if end < start:\n",
    "        factor = -1\n",
    "    currentMaxima = []\n",
    "    for i in range(len(maxima)):\n",
    "        position = maxima[i][0]\n",
    "        if start * factor < position * factor and position * factor < end * factor:\n",
    "            currentMaxima.append(maxima[i])\n",
    "    if len(currentMaxima) == 0:\n",
    "        return\n",
    "    localMaxima = currentMaxima.pop(0)\n",
    "    recursionStep(start, localMaxima[0], currentMaxima.copy(), minima.copy(), featurePairs)\n",
    "    currentMinima = []\n",
    "    for i in range(len(minima)):\n",
    "        position = minima[i][0]\n",
    "        if localMaxima[0] * factor < position * factor and position * factor < end * factor:\n",
    "            currentMinima.append(minima[i])\n",
    "    localMinima = currentMinima.pop(0)\n",
    "    featurePairs.append([localMaxima[0], localMaxima[1] - localMinima[1]])\n",
    "    recursionStep(localMinima[0], localMaxima[0], currentMaxima.copy(), currentMinima.copy(), featurePairs)\n",
    "    recursionStep(localMinima[0], end, currentMaxima.copy(), currentMinima.copy(), featurePairs)\n",
    "    \n",
    "def getPersistenceTransformation(data_X, listOfK):\n",
    "    spectras = []\n",
    "    for i in range(len(data_X)):\n",
    "        featurePairs = recursionStart(data_X.iloc[i])\n",
    "        if featurePairs == -1:\n",
    "            spectras.append([[0,0]])\n",
    "        else:\n",
    "            featurePairs.sort(key = lambda element: element[1], reverse = True)\n",
    "            spectras.append(featurePairs)\n",
    "        \n",
    "    spectrasForEachK = []\n",
    "    \n",
    "    for k in listOfK:\n",
    "        transformationForSpectra = []\n",
    "        for i in range(0, len(spectras)):\n",
    "            transformation = [0] * len(data_X.iloc[i])\n",
    "            featurePairs = spectras[i][0:round(k*len(spectras[i]))]\n",
    "            for x, fx in featurePairs:\n",
    "                transformation[x] = fx\n",
    "            transformationForSpectra.append(transformation)\n",
    "        spectrasForEachK.append(transformationForSpectra)\n",
    "    return spectrasForEachK\n",
    "\n",
    "def getPersistenceTransformation(data_X, number_of_peaks):\n",
    "    spectras = []\n",
    "    for i in range(len(data_X)):\n",
    "        featurePairs = recursionStart(data_X.iloc[i])\n",
    "        if featurePairs == -1:\n",
    "            spectras.append([[0,0]])\n",
    "        else:\n",
    "            featurePairs.sort(key = lambda element: element[1], reverse = True)\n",
    "            spectras.append(featurePairs)\n",
    "        \n",
    "    spectrasForEachK = []\n",
    "    \n",
    "    transformationForSpectra = []\n",
    "    for i in range(0, len(spectras)):\n",
    "        transformation = [0] * len(data_X.iloc[i])\n",
    "        if len(spectras[i]) == 1:\n",
    "            k = 0\n",
    "        else:\n",
    "            k = number_of_peaks\n",
    "        featurePairs = spectras[i][0:k]\n",
    "        for x, fx in featurePairs:\n",
    "            transformation[x] = fx\n",
    "        transformationForSpectra.append(transformation)\n",
    "    return transformationForSpectra"
   ]
  },
  {
   "cell_type": "code",
   "execution_count": 15,
   "id": "42630bf6",
   "metadata": {},
   "outputs": [],
   "source": [
    "def read_data(path):\n",
    "    parsed = rdata.parser.parse_file(path)\n",
    "    converted = rdata.conversion.convert(parsed)\n",
    "    data = np.array(list(converted.values()))[0]\n",
    "    return data"
   ]
  },
  {
   "cell_type": "code",
   "execution_count": 59,
   "id": "9d3366a2",
   "metadata": {},
   "outputs": [
    {
     "data": {
      "image/png": "[encoded data removed]",
      "text/plain": [
       "<Figure size 640x480 with 1 Axes>"
      ]
     },
     "metadata": {},
     "output_type": "display_data"
    }
   ],
   "source": [
    "data = read_data(\"data/image_data.RData\")\n",
    "image = create_maldi_image(data)\n",
    "plot_image(image)"
   ]
  },
  {
   "cell_type": "code",
   "execution_count": 60,
   "id": "f3443f16",
   "metadata": {},
   "outputs": [
    {
     "data": {
      "image/png": "[encoded data removed]",
      "text/plain": [
       "<Figure size 640x480 with 1 Axes>"
      ]
     },
     "metadata": {},
     "output_type": "display_data"
    }
   ],
   "source": [
    "data_noisy = read_data(\"data/image_data_noise.RData\")\n",
    "image_noisy = create_maldi_image(data_noisy)\n",
    "plot_image(image_noisy)\n",
    "X = getPersistenceTransformation(data_X = pd.DataFrame(data_noisy), number_of_peaks = 50)\n",
    "plot_image(create_maldi_image(X))"
   ]
  },
  {
   "cell_type": "code",
   "execution_count": 84,
   "id": "ff03da1b",
   "metadata": {},
   "outputs": [
    {
     "data": {
      "image/png": "[encoded data removed]",
      "text/plain": [
       "<Figure size 640x480 with 1 Axes>"
      ]
     },
     "metadata": {},
     "output_type": "display_data"
    },
    {
     "data": {
      "image/png": "[encoded data removed]",
      "text/plain": [
       "<Figure size 640x480 with 1 Axes>"
      ]
     },
     "metadata": {},
     "output_type": "display_data"
    }
   ],
   "source": [
    "data_noisy2 = read_data(\"data/image_data_noise_02.RData\")\n",
    "image_noisy2 = create_maldi_image(data_noisy2)\n",
    "plot_image(image_noisy2)\n",
    "X = getPersistenceTransformation(data_X = pd.DataFrame(data_noisy2), number_of_peaks = 50)\n",
    "plot_image(create_maldi_image(X))"
   ]
  },
  {
   "cell_type": "code",
   "execution_count": 52,
   "id": "e9677457",
   "metadata": {},
   "outputs": [
    {
     "data": {
      "image/png": "[encoded data removed]",
      "text/plain": [
       "<Figure size 640x480 with 1 Axes>"
      ]
     },
     "metadata": {},
     "output_type": "display_data"
    }
   ],
   "source": [
    "mean = 0\n",
    "std_dev = 0.035\n",
    "data_noisy = []\n",
    "np.random.seed(123)\n",
    "for i in range(len(data)):\n",
    "    noise = np.random.normal(mean, std_dev, len(data[i]))\n",
    "    data_noisy.append(data[i] + noise)\n",
    "image_noisy = create_maldi_image(data_noisy)\n",
    "plot_image(image_noisy)"
   ]
  }
 ],
 "metadata": {
  "kernelspec": {
   "display_name": "Python 3 (ipykernel)",
   "language": "python",
   "name": "python3"
  },
  "language_info": {
   "codemirror_mode": {
    "name": "ipython",
    "version": 3
   },
   "file_extension": ".py",
   "mimetype": "text/x-python",
   "name": "python",
   "nbconvert_exporter": "python",
   "pygments_lexer": "ipython3",
   "version": "3.7.11"
  }
 },
 "nbformat": 4,
 "nbformat_minor": 5
}
