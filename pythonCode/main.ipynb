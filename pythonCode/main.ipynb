{
 "cells": [
  {
   "cell_type": "code",
   "execution_count": 17,
   "id": "c28e894f",
   "metadata": {},
   "outputs": [],
   "source": [
    "import math\n",
    "import pyreadr\n",
    "import numpy as np\n",
    "import pandas as pd\n",
    "import seaborn as sns\n",
    "import json\n",
    "\n",
    "import matplotlib.pyplot as plt\n",
    "\n",
    "from sklearn.metrics import accuracy_score\n",
    "from sklearn.model_selection import train_test_split\n",
    "from sklearn.linear_model import LogisticRegression\n",
    "from sklearn.preprocessing import StandardScaler\n",
    "\n",
    "from sklearn.linear_model import LogisticRegression, LogisticRegressionCV\n",
    "from sklearn.model_selection import cross_val_score, GridSearchCV, train_test_split\n",
    "from sklearn import preprocessing\n",
    "from sklearn.model_selection import GridSearchCV"
   ]
  },
  {
   "cell_type": "code",
   "execution_count": 20,
   "id": "c779e8a5",
   "metadata": {},
   "outputs": [],
   "source": [
    "### Load MALDI data and helper functions\n",
    "from tqdm import tqdm\n",
    "import time\n",
    "\n",
    "from pymatreader import read_mat\n",
    "\n",
    "# Loading Data from Matlab\n",
    "dataMaldi = read_mat('data/L1-8_tic_ad_sq.mat')\n",
    "\n",
    "X_values = pd.DataFrame(dataMaldi['data_tic'])#Reading the mz-values \n",
    "                                #to get pd's as input for the ml\n",
    "classes = pd.DataFrame(dataMaldi['classes'])#The cancer Typ, result for ml\n",
    "\n",
    "mz_values = pd.DataFrame(dataMaldi['mzVector'])\n",
    "\n",
    "TMAs   = pd.Series(dataMaldi['tmas'])\n",
    "\n",
    "p = X_values.shape[0]\n",
    "\n",
    "y = pd.DataFrame(np.where(classes == 1, 0, 1))"
   ]
  },
  {
   "cell_type": "code",
   "execution_count": 21,
   "id": "4fc65c20",
   "metadata": {},
   "outputs": [],
   "source": [
    "def recursionStart(spectra):\n",
    "    featurePairs = []\n",
    "    maxima = []\n",
    "    minima = []\n",
    "    \n",
    "    for i in range(1, len(spectra) - 1):\n",
    "        if spectra[i] > spectra[i-1]:\n",
    "            if spectra[i] >= spectra[i+1]:\n",
    "                for j in range(i+1, len(spectra)):\n",
    "                    if spectra[i] > spectra[j]:\n",
    "                        maxima.append([i, spectra[i]])\n",
    "                        break\n",
    "                    elif spectra[i] < spectra[j]:\n",
    "                        break\n",
    "        if spectra[i] < spectra[i-1]:\n",
    "            if spectra[i] <= spectra[i+1]:\n",
    "                for j in range(i+1, len(spectra)):\n",
    "                    if spectra[i] < spectra[j]:\n",
    "                        minima.append([i, spectra[i]])\n",
    "                        break\n",
    "                    elif spectra[i] > spectra[j]:\n",
    "                        break\n",
    "    maxima.sort(key = lambda element: element[1], reverse = True)\n",
    "    minima.sort(key = lambda element: element[1])\n",
    "    \n",
    "    globalMaxima = maxima.pop(0)\n",
    "    featurePairs.append([globalMaxima[0], globalMaxima[1] - minima[0][1]])\n",
    "    \n",
    "    recursionStep(0, globalMaxima[0], maxima.copy(), minima.copy(), featurePairs)\n",
    "    recursionStep(len(spectra) - 1, globalMaxima[0], maxima.copy(), minima.copy(), featurePairs)\n",
    "    \n",
    "    return featurePairs"
   ]
  },
  {
   "cell_type": "code",
   "execution_count": 22,
   "id": "2fb34b17",
   "metadata": {},
   "outputs": [],
   "source": [
    "def recursionStep(start, end, maxima, minima, featurePairs):\n",
    "    factor = 1\n",
    "    if end < start:\n",
    "        factor = -1\n",
    "    currentMaxima = []\n",
    "    for i in range(len(maxima)):\n",
    "        position = maxima[i][0]\n",
    "        if start * factor < position * factor and position * factor < end * factor:\n",
    "            currentMaxima.append(maxima[i])\n",
    "    if len(currentMaxima) == 0:\n",
    "        return\n",
    "    localMaxima = currentMaxima.pop(0)\n",
    "    recursionStep(start, localMaxima[0], currentMaxima.copy(), minima.copy(), featurePairs)\n",
    "    currentMinima = []\n",
    "    for i in range(len(minima)):\n",
    "        position = minima[i][0]\n",
    "        if localMaxima[0] * factor < position * factor and position * factor < end:\n",
    "            currentMinima.append(minima[i])\n",
    "    localMinima = currentMinima.pop(0)\n",
    "    featurePairs.append([localMaxima[0], localMaxima[1] - localMinima[1]])\n",
    "    recursionStep(localMinima[0], localMaxima[0], currentMaxima.copy(), currentMinima.copy(), featurePairs)\n",
    "    recursionStep(localMinima[0], end, currentMaxima.copy(), currentMinima.copy(), featurePairs)"
   ]
  },
  {
   "cell_type": "code",
   "execution_count": 23,
   "id": "91a6953c",
   "metadata": {},
   "outputs": [],
   "source": [
    "def getPersistenceTransformation(data_X, k):\n",
    "    spectras = []\n",
    "    for i in range(len(data_X)):\n",
    "        featurePairs = recursionStart(data_X[i])\n",
    "        spectras.append(featurePairs[0 : round(k * len(featurePairs))])\n",
    "    for i in range(len(spectras)):\n",
    "        transformation = [0] * len(data_X[i])\n",
    "        for x, fx in featurePairs:\n",
    "            transformation[x] = fx\n",
    "    return spectra"
   ]
  },
  {
   "cell_type": "code",
   "execution_count": 25,
   "id": "7aa50e8d",
   "metadata": {},
   "outputs": [],
   "source": [
    "from sklearn import preprocessing\n",
    "\n",
    "X = X_values\n",
    "\n",
    "resp = y\n",
    "tmas = TMAs\n",
    "X_train = X.iloc[tmas[tmas != 3].index, :]\n",
    "\n",
    "X_test = X.iloc[tmas[tmas == 3].index, :]\n",
    "\n",
    "y_train = resp.iloc[tmas[tmas != 3].index, :]\n",
    "\n",
    "y_test = resp.iloc[tmas[tmas == 3].index, :]\n",
    "\n",
    "scaler = preprocessing.StandardScaler().fit(X_train)"
   ]
  },
  {
   "cell_type": "code",
   "execution_count": 26,
   "id": "4495f8fe",
   "metadata": {},
   "outputs": [],
   "source": [
    "X_scaled = scaler.transform(X_train)\n",
    "\n",
    "estimator = LogisticRegression(random_state=12345, solver='newton-cg', penalty = 'l2')\n",
    "grid = {\n",
    "    'C': list(np.arange(0.0001, 0.3, 0.001)), \n",
    "}"
   ]
  },
  {
   "cell_type": "code",
   "execution_count": null,
   "id": "007fdaef",
   "metadata": {},
   "outputs": [],
   "source": [
    "gs = GridSearchCV(estimator, param_grid=grid, scoring='accuracy', cv=5)\n",
    "gs.fit(X_scaled, y_train.values.ravel())\n",
    "print(gs.best_score_) "
   ]
  },
  {
   "cell_type": "code",
   "execution_count": null,
   "id": "f14d882b",
   "metadata": {},
   "outputs": [],
   "source": [
    "plt.plot(mz_values, np.transpose( X_values.loc[[22]]))\n",
    "plt.ylabel('Intensity')\n",
    "plt.xlabel('m/z values')"
   ]
  },
  {
   "cell_type": "code",
   "execution_count": null,
   "id": "cc637a07",
   "metadata": {},
   "outputs": [],
   "source": [
    "k1 = 0.01\n",
    "k2 = 0.05\n",
    "k3 = 0.1\n",
    "k4 = 0.2\n",
    "k5 = 0.25\n",
    "k6 = 0.5"
   ]
  },
  {
   "cell_type": "code",
   "execution_count": null,
   "id": "ebe47692",
   "metadata": {},
   "outputs": [],
   "source": [
    "X_k1 = getPersistenceTransformation(data_X = X_values, k = k1)\n",
    "X_k2 = getPersistenceTransformation(data_X = X_values, k = k2)\n",
    "X_k4 = getPersistenceTransformation(data_X = X_values, k = k4)"
   ]
  },
  {
   "cell_type": "code",
   "execution_count": null,
   "id": "23f30a18",
   "metadata": {},
   "outputs": [],
   "source": [
    "s1 = X_values.loc[[22]]\n",
    "s2 = pd.DataFrame(X_k1).loc[[22]]\n",
    "s3 = pd.DataFrame(X_k2).loc[[22]]\n",
    "s4 = pd.DataFrame(X_k4).loc[[22]]"
   ]
  },
  {
   "cell_type": "code",
   "execution_count": null,
   "id": "d8309cde",
   "metadata": {},
   "outputs": [],
   "source": [
    "## First part of the experiments - carry out (8 fold) cross-validation based on each TMAs \n",
    "## There should be Figures (3) and (4) in the paper Leuschner et al. \n",
    "from sklearn.ensemble import RandomForestClassifier\n",
    "def cvAccuracy(tmas, X, resp, classifier):\n",
    "    \n",
    "    tmas_names = ['L1:', 'L2:', 'L3:', 'L4:', 'L5:', 'L6:', 'L7:', 'L8:']\n",
    "    \n",
    "    tmas_res_test   = []\n",
    "    tmas_vals_test  = []\n",
    "    tmas_res_train  = []\n",
    "    tmas_vals_train = []\n",
    "    \n",
    "    for tma in range(1, len(tmas_names)+1):\n",
    "    \n",
    "        X_train = X.iloc[tmas[tmas != tma].index, :]\n",
    "\n",
    "        X_test = X.iloc[tmas[tmas == tma].index, :]\n",
    "\n",
    "        y_train = resp.iloc[tmas[tmas != tma].index, :]\n",
    "\n",
    "        y_test = resp.iloc[tmas[tmas == tma].index, :]\n",
    "        \n",
    "        if (classifier == 'log'):\n",
    "\n",
    "            logreg = LogisticRegression(penalty = 'none', solver = 'newton-cg')\n",
    "\n",
    "            logreg.fit(X_train, y_train.values.ravel())\n",
    "\n",
    "            y_pred = logreg.predict_proba(X_test)\n",
    "\n",
    "            y_pred_1 = np.where(y_pred[:, 1] >= 0.5, 1, 0)\n",
    "\n",
    "            accuracy = accuracy_score(y_test, y_pred_1)\n",
    "            \n",
    "            tmas_vals_test.append(accuracy)\n",
    "\n",
    "            tmp_tmas = [tmas_names[tma-1], accuracy]\n",
    "\n",
    "            tmas_vals_test.append(tmp_tmas)\n",
    "            \n",
    "        if (classifier == 'rf'):\n",
    "            \n",
    "            rf = RandomForestClassifier(n_estimators= 500, random_state= 1234)\n",
    "            \n",
    "            rf.fit(X_train, y_train.values.ravel())\n",
    "            \n",
    "            y_pred_rf = rf.predict(X_test)\n",
    "            \n",
    "            accuracy = accuracy_score(y_test, y_pred_rf)\n",
    "            \n",
    "            tmas_vals_test.append(accuracy)\n",
    "\n",
    "            tmp_tmas = [tmas_names[tma-1], accuracy]\n",
    "\n",
    "            tmas_res_test.append(tmp_tmas)\n",
    "        \n",
    "        if (classifier == 'lasso'):\n",
    "           \n",
    "           print('I am lasso')\n",
    "        \n",
    "         \n",
    "         \n",
    "        \n",
    "    return tmas_vals_test, tmas_res_test  \n",
    "\n",
    "def Average(lst):\n",
    "    return sum(lst) / len(lst)"
   ]
  },
  {
   "cell_type": "code",
   "execution_count": null,
   "id": "6f731798",
   "metadata": {},
   "outputs": [],
   "source": [
    "gs.best_params_"
   ]
  },
  {
   "cell_type": "code",
   "execution_count": null,
   "id": "b90de6aa",
   "metadata": {},
   "outputs": [],
   "source": [
    "rf_raw_1, rf_raw_2 = cvAccuracy(tmas =TMAs, resp=y, X = X_values, classifier='rf')\n",
    "rf_k1_1, rf_k1_2 = cvAccuracy(tmas =TMAs, resp=y, X = pd.DataFrame(X_k1), classifier = 'rf')\n",
    "rf_k2_1, rf_k2_2 = cvAccuracy(tmas =TMAs, resp=y, X = pd.DataFrame(X_k2), classifier = 'rf')\n",
    "rf_k3_1, rf_k3_2 = cvAccuracy(tmas =TMAs, resp=y, X = pd.DataFrame(X_k3), classifier = 'rf')\n",
    "rf_k4_1, rf_k4_2 = cvAccuracy(tmas =TMAs, resp=y, X = pd.DataFrame(X_k4), classifier = 'rf')\n",
    "rf_k5_1, rf_k5_2 = cvAccuracy(tmas =TMAs, resp=y, X = pd.DataFrame(X_k5), classifier = 'rf')"
   ]
  },
  {
   "cell_type": "code",
   "execution_count": null,
   "id": "3acbe18b",
   "metadata": {},
   "outputs": [],
   "source": [
    "print(Average(rf_raw_1), Average(rf_k1_1), Average(rf_k2_1), Average(rf_k3_1), Average(rf_k4_1), Average(rf_k5_1))"
   ]
  },
  {
   "cell_type": "code",
   "execution_count": null,
   "id": "8dc3c7a3",
   "metadata": {},
   "outputs": [],
   "source": [
    "q1, q2 = cvAccuracy(tmas =TMAs, resp=y, X = X_values, classifier='log')"
   ]
  },
  {
   "cell_type": "code",
   "execution_count": null,
   "id": "772f2fcb",
   "metadata": {},
   "outputs": [],
   "source": [
    "res_k1_1, res_k1_2 = cvAccuracy(tmas =TMAs, resp=y, X = pd.DataFrame(X_k1), classifier = 'log')"
   ]
  },
  {
   "cell_type": "code",
   "execution_count": null,
   "id": "11e57958",
   "metadata": {},
   "outputs": [],
   "source": [
    "res_k2_1, res_k2_2 = cvAccuracy(tmas =TMAs, resp=y, X = pd.DataFrame(X_k2), classifier = 'log')"
   ]
  },
  {
   "cell_type": "code",
   "execution_count": null,
   "id": "8bd702d4",
   "metadata": {},
   "outputs": [],
   "source": [
    "res_k3_1, res_k3_2 = cvAccuracy(tmas =TMAs, resp=y, X = pd.DataFrame(X_k3), classifier = 'log')"
   ]
  },
  {
   "cell_type": "code",
   "execution_count": null,
   "id": "82094201",
   "metadata": {},
   "outputs": [],
   "source": [
    "res_k4_1, res_k4_2 = cvAccuracy(tmas =TMAs, resp=y, X = pd.DataFrame(X_k4), classifier = 'log')"
   ]
  },
  {
   "cell_type": "code",
   "execution_count": null,
   "id": "4f9fba0f",
   "metadata": {},
   "outputs": [],
   "source": [
    "res_k5_1, res_k5_2 = cvAccuracy(tmas =TMAs, resp=y, X = pd.DataFrame(X_k5), classifier = 'log')"
   ]
  },
  {
   "cell_type": "code",
   "execution_count": null,
   "id": "0e00ded2",
   "metadata": {},
   "outputs": [],
   "source": [
    "res_k6_1, res_k6_2 = cvAccuracy(tmas =TMAs, resp=y, X = pd.DataFrame(X_k6), classifier = 'log')"
   ]
  },
  {
   "cell_type": "code",
   "execution_count": null,
   "id": "9180c8ad",
   "metadata": {},
   "outputs": [],
   "source": [
    "print(Average(q1), Average(res_k1_1), Average(res_k2_1),\n",
    "      Average(res_k3_1), Average(res_k4_1), Average(res_k5_1), Average(res_k6_1))"
   ]
  },
  {
   "cell_type": "code",
   "execution_count": null,
   "id": "74293bc0",
   "metadata": {},
   "outputs": [],
   "source": [
    "print(np.count_nonzero(s2), np.count_nonzero(s3), np.count_nonzero(s4))"
   ]
  },
  {
   "cell_type": "code",
   "execution_count": null,
   "id": "34136bab",
   "metadata": {},
   "outputs": [],
   "source": [
    "results = pd.concat([pd.Series(q1), pd.Series(res_k1_1), pd.Series(res_k2_1), pd.Series(res_k3_1), \n",
    "                     pd.Series(res_k4_1), pd.Series(res_k5_1),\n",
    "                     pd.Series(res_k5_1)], axis=1)\n",
    "\n",
    "results = pd.DataFrame(results)\n",
    "\n",
    "results.boxplot()\n",
    "#sns.boxplot(results.iloc[:, 0:1])"
   ]
  }
 ],
 "metadata": {
  "kernelspec": {
   "display_name": "Python 3 (ipykernel)",
   "language": "python",
   "name": "python3"
  },
  "language_info": {
   "codemirror_mode": {
    "name": "ipython",
    "version": 3
   },
   "file_extension": ".py",
   "mimetype": "text/x-python",
   "name": "python",
   "nbconvert_exporter": "python",
   "pygments_lexer": "ipython3",
   "version": "3.7.11"
  }
 },
 "nbformat": 4,
 "nbformat_minor": 5
}
