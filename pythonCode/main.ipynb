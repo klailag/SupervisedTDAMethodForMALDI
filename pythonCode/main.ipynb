{
 "cells": [
  {
   "cell_type": "code",
   "execution_count": 1,
   "id": "1fc17587",
   "metadata": {},
   "outputs": [],
   "source": [
    "import math\n",
    "import pyreadr\n",
    "import numpy as np\n",
    "import pandas as pd\n",
    "import seaborn as sns\n",
    "import json\n",
    "\n",
    "import matplotlib.pyplot as plt\n",
    "\n",
    "from sklearn.metrics import accuracy_score\n",
    "from sklearn.model_selection import train_test_split\n",
    "from sklearn.linear_model import LogisticRegression\n",
    "from sklearn.preprocessing import StandardScaler\n",
    "\n",
    "from sklearn.linear_model import LogisticRegression, LogisticRegressionCV\n",
    "from sklearn.model_selection import cross_val_score, GridSearchCV, train_test_split\n",
    "from sklearn import preprocessing\n",
    "from sklearn.model_selection import GridSearchCV"
   ]
  },
  {
   "cell_type": "code",
   "execution_count": 2,
   "id": "859854bd",
   "metadata": {},
   "outputs": [],
   "source": [
    "### Load MALDI data and helper functions\n",
    "from tqdm import tqdm\n",
    "import time\n",
    "\n",
    "from pymatreader import read_mat\n",
    "\n",
    "# Loading Data from Matlab\n",
    "dataMaldi = read_mat('data/L1-8_tic_ad_sq.mat')\n",
    "\n",
    "X_values = pd.DataFrame(dataMaldi['data_tic'])#Reading the mz-values \n",
    "                                #to get pd's as input for the ml\n",
    "classes = pd.DataFrame(dataMaldi['classes'])#The cancer Typ, result for ml\n",
    "\n",
    "mz_values = pd.DataFrame(dataMaldi['mzVector'])\n",
    "\n",
    "TMAs   = pd.Series(dataMaldi['tmas'])\n",
    "\n",
    "p = X_values.shape[0]\n",
    "\n",
    "y = pd.DataFrame(np.where(classes == 1, 0, 1))"
   ]
  },
  {
   "cell_type": "code",
   "execution_count": 3,
   "id": "1f2c1e05",
   "metadata": {},
   "outputs": [],
   "source": [
    "def recursionStart(spectra):\n",
    "    featurePairs = []\n",
    "    maxima = []\n",
    "    minima = []\n",
    "    \n",
    "    for i in range(1, len(spectra) - 1):\n",
    "        if spectra[i] > spectra[i-1]:\n",
    "            if spectra[i] >= spectra[i+1]:\n",
    "                for j in range(i+1, len(spectra)):\n",
    "                    if spectra[i] > spectra[j]:\n",
    "                        maxima.append([i, spectra[i]])\n",
    "                        break\n",
    "                    elif spectra[i] < spectra[j]:\n",
    "                        break\n",
    "        if spectra[i] < spectra[i-1]:\n",
    "            if spectra[i] <= spectra[i+1]:\n",
    "                for j in range(i+1, len(spectra)):\n",
    "                    if spectra[i] < spectra[j]:\n",
    "                        minima.append([i, spectra[i]])\n",
    "                        break\n",
    "                    elif spectra[i] > spectra[j]:\n",
    "                        break\n",
    "    maxima.sort(key = lambda element: element[1], reverse = True)\n",
    "    minima.sort(key = lambda element: element[1])\n",
    "    \n",
    "    globalMaxima = maxima.pop(0)\n",
    "    featurePairs.append([globalMaxima[0], globalMaxima[1] - minima[0][1]])\n",
    "    \n",
    "    recursionStep(0, globalMaxima[0], maxima.copy(), minima.copy(), featurePairs)\n",
    "    recursionStep(len(spectra) - 1, globalMaxima[0], maxima.copy(), minima.copy(), featurePairs)\n",
    "    \n",
    "    return featurePairs"
   ]
  },
  {
   "cell_type": "code",
   "execution_count": 4,
   "id": "f5f419de",
   "metadata": {},
   "outputs": [],
   "source": [
    "def recursionStep(start, end, maxima, minima, featurePairs):\n",
    "    factor = 1\n",
    "    if end < start:\n",
    "        factor = -1\n",
    "    currentMaxima = []\n",
    "    for i in range(len(maxima)):\n",
    "        position = maxima[i][0]\n",
    "        if start * factor < position * factor and position * factor < end * factor:\n",
    "            currentMaxima.append(maxima[i])\n",
    "    if len(currentMaxima) == 0:\n",
    "        return\n",
    "    localMaxima = currentMaxima.pop(0)\n",
    "    recursionStep(start, localMaxima[0], currentMaxima.copy(), minima.copy(), featurePairs)\n",
    "    currentMinima = []\n",
    "    for i in range(len(minima)):\n",
    "        position = minima[i][0]\n",
    "        if localMaxima[0] * factor < position * factor and position * factor < end:\n",
    "            currentMinima.append(minima[i])\n",
    "    localMinima = currentMinima.pop(0)\n",
    "    featurePairs.append([localMaxima[0], localMaxima[1] - localMinima[1]])\n",
    "    recursionStep(localMinima[0], localMaxima[0], currentMaxima.copy(), currentMinima.copy(), featurePairs)\n",
    "    recursionStep(localMinima[0], end, currentMaxima.copy(), currentMinima.copy(), featurePairs)"
   ]
  },
  {
   "cell_type": "code",
   "execution_count": 30,
   "id": "d799ea1e",
   "metadata": {},
   "outputs": [],
   "source": [
    "def getPersistenceTransformation(data_X, listOfK):\n",
    "    spectras = []\n",
    "    for i in range(len(data_X)):\n",
    "        featurePairs = recursionStart(data_X.iloc[i])\n",
    "        featurePairs.sort(key = lambda element: element[1], reverse = True)\n",
    "        spectras.append(featurePairs)\n",
    "    spectrasForEachK = []\n",
    "    for k in listOfK:\n",
    "        transformationForSpectra = []\n",
    "        for i in range(0, len(spectras)):\n",
    "            transformation = [0] * len(data_X.iloc[i])\n",
    "            featurePairs = spectras[i][0:round(k*len(spectras[i]))]\n",
    "            for x, fx in featurePairs:\n",
    "                transformation[x] = fx\n",
    "            transformationForSpectra.append(transformation)\n",
    "        spectrasForEachK.append(transformation)\n",
    "    return spectrasForEachK"
   ]
  },
  {
   "cell_type": "code",
   "execution_count": 6,
   "id": "78cb0e9e",
   "metadata": {},
   "outputs": [],
   "source": [
    "def writeSpectraToFile(path, spectra):\n",
    "    with open(path, 'a') as fp:\n",
    "        for s in spectra:\n",
    "            fp.write(str(s) +\"\\n\")"
   ]
  },
  {
   "cell_type": "code",
   "execution_count": 7,
   "id": "c3d6b7c6",
   "metadata": {},
   "outputs": [],
   "source": [
    "def readSpectraFromFile(path):\n",
    "    spectra = []\n",
    "    for line in open(path, 'r'):\n",
    "        spectra.append(json.loads(line))\n",
    "    return spectra"
   ]
  },
  {
   "cell_type": "code",
   "execution_count": 9,
   "id": "6e3242a9",
   "metadata": {},
   "outputs": [],
   "source": [
    "## First part of the experiments - carry out (8 fold) cross-validation based on each TMAs \n",
    "## There should be Figures (3) and (4) in the paper Leuschner et al. \n",
    "from sklearn.ensemble import RandomForestClassifier\n",
    "def cvAccuracy(tmas, X, resp, classifier):\n",
    "    \n",
    "    tmas_names = ['L1:', 'L2:', 'L3:', 'L4:', 'L5:', 'L6:', 'L7:', 'L8:']\n",
    "    \n",
    "    tmas_res_test   = []\n",
    "    tmas_vals_test  = []\n",
    "    tmas_res_train  = []\n",
    "    tmas_vals_train = []\n",
    "    \n",
    "    for tma in range(1, len(tmas_names)+1):\n",
    "    \n",
    "        X_train = X.iloc[tmas[tmas != tma].index, :]\n",
    "\n",
    "        X_test = X.iloc[tmas[tmas == tma].index, :]\n",
    "\n",
    "        y_train = resp.iloc[tmas[tmas != tma].index, :]\n",
    "\n",
    "        y_test = resp.iloc[tmas[tmas == tma].index, :]\n",
    "        \n",
    "        if (classifier == 'log'):\n",
    "\n",
    "            logreg = LogisticRegression(penalty = 'none', solver = 'newton-cg')\n",
    "\n",
    "            logreg.fit(X_train, y_train.values.ravel())\n",
    "\n",
    "            y_pred = logreg.predict_proba(X_test)\n",
    "\n",
    "            y_pred_1 = np.where(y_pred[:, 1] >= 0.5, 1, 0)\n",
    "\n",
    "            accuracy = accuracy_score(y_test, y_pred_1)\n",
    "            \n",
    "            tmas_vals_test.append(accuracy)\n",
    "\n",
    "            tmp_tmas = [tmas_names[tma-1], accuracy]\n",
    "\n",
    "            tmas_vals_test.append(tmp_tmas)\n",
    "            \n",
    "        if (classifier == 'rf'):\n",
    "            \n",
    "            rf = RandomForestClassifier(n_estimators= 500, random_state= 1234)\n",
    "            \n",
    "            rf.fit(X_train, y_train.values.ravel())\n",
    "            \n",
    "            y_pred_rf = rf.predict(X_test)\n",
    "            \n",
    "            accuracy = accuracy_score(y_test, y_pred_rf)\n",
    "            \n",
    "            tmas_vals_test.append(accuracy)\n",
    "\n",
    "            tmp_tmas = [tmas_names[tma-1], accuracy]\n",
    "\n",
    "            tmas_res_test.append(tmp_tmas)\n",
    "        \n",
    "        if (classifier == 'lasso'):\n",
    "           \n",
    "           print('I am lasso')\n",
    "        \n",
    "         \n",
    "         \n",
    "        \n",
    "    return tmas_vals_test, tmas_res_test  \n",
    "\n",
    "def Average(lst):\n",
    "    return sum(lst) / len(lst)"
   ]
  },
  {
   "cell_type": "code",
   "execution_count": 19,
   "id": "cd7aa803",
   "metadata": {},
   "outputs": [],
   "source": [
    "k1 = 0.01\n",
    "k2 = 0.05\n",
    "k3 = 0.1\n",
    "k4 = 0.2\n",
    "k5 = 0.25\n",
    "k6 = 0.5"
   ]
  },
  {
   "cell_type": "code",
   "execution_count": 32,
   "id": "af428391",
   "metadata": {},
   "outputs": [],
   "source": [
    "#ListOfXk = getPersistenceTransformation(data_X = X_values, listOfK = [k1, k2, k3, k4, k5, k6])\n",
    "#X_k1 = ListOfXk[0]\n",
    "#X_k2 = ListOfXk[1]\n",
    "#X_k3 = ListOfXk[2]\n",
    "#X_k4 = ListOfXk[3]\n",
    "#X_k5 = ListOfXk[4]\n",
    "#X_k6 = ListOfXk[5]"
   ]
  },
  {
   "cell_type": "code",
   "execution_count": 33,
   "id": "0eeb5166",
   "metadata": {},
   "outputs": [],
   "source": [
    "writeSpectraToFile('spectras/sk1.txt', X_k1)\n",
    "writeSpectraToFile('spectras/sk2.txt', X_k2)\n",
    "writeSpectraToFile('spectras/sk3.txt', X_k3)\n",
    "writeSpectraToFile('spectras/sk4.txt', X_k4)\n",
    "writeSpectraToFile('spectras/sk5.txt', X_k5)\n",
    "writeSpectraToFile('spectras/sk6.txt', X_k6)"
   ]
  },
  {
   "cell_type": "code",
   "execution_count": null,
   "id": "1c420e17",
   "metadata": {},
   "outputs": [],
   "source": [
    "X_k1 = readSpectraFromFile('spectras/sk1.txt')\n",
    "X_k2 = readSpectraFromFile('spectras/sk2.txt')\n",
    "X_k3 = readSpectraFromFile('spectras/sk3.txt')\n",
    "X_k4 = readSpectraFromFile('spectras/sk4.txt')\n",
    "X_k5 = readSpectraFromFile('spectras/sk5.txt')\n",
    "X_k6 = readSpectraFromFile('spectras/sk6.txt')"
   ]
  },
  {
   "cell_type": "code",
   "execution_count": 34,
   "id": "452a3248",
   "metadata": {},
   "outputs": [],
   "source": [
    "s1 = X_values.loc[[22]]\n",
    "s2 = pd.DataFrame(X_k1).loc[[22]]\n",
    "s3 = pd.DataFrame(X_k2).loc[[22]]\n",
    "s4 = pd.DataFrame(X_k5).loc[[22]]"
   ]
  },
  {
   "cell_type": "code",
   "execution_count": 35,
   "id": "b4dc6eb9",
   "metadata": {},
   "outputs": [
    {
     "ename": "IndexError",
     "evalue": "positional indexers are out-of-bounds",
     "output_type": "error",
     "traceback": [
      "\u001b[1;31m---------------------------------------------------------------------------\u001b[0m",
      "\u001b[1;31mIndexError\u001b[0m                                Traceback (most recent call last)",
      "\u001b[1;32m<ipython-input-35-b5ea6ae2bee0>\u001b[0m in \u001b[0;36m<module>\u001b[1;34m\u001b[0m\n\u001b[0;32m      1\u001b[0m \u001b[0mrf_raw_1\u001b[0m\u001b[1;33m,\u001b[0m \u001b[0mrf_raw_2\u001b[0m \u001b[1;33m=\u001b[0m \u001b[0mcvAccuracy\u001b[0m\u001b[1;33m(\u001b[0m\u001b[0mtmas\u001b[0m \u001b[1;33m=\u001b[0m\u001b[0mTMAs\u001b[0m\u001b[1;33m,\u001b[0m \u001b[0mresp\u001b[0m\u001b[1;33m=\u001b[0m\u001b[0my\u001b[0m\u001b[1;33m,\u001b[0m \u001b[0mX\u001b[0m \u001b[1;33m=\u001b[0m \u001b[0mX_values\u001b[0m\u001b[1;33m,\u001b[0m \u001b[0mclassifier\u001b[0m\u001b[1;33m=\u001b[0m\u001b[1;34m'rf'\u001b[0m\u001b[1;33m)\u001b[0m\u001b[1;33m\u001b[0m\u001b[1;33m\u001b[0m\u001b[0m\n\u001b[1;32m----> 2\u001b[1;33m \u001b[0mrf_k1_1\u001b[0m\u001b[1;33m,\u001b[0m \u001b[0mrf_k1_2\u001b[0m \u001b[1;33m=\u001b[0m \u001b[0mcvAccuracy\u001b[0m\u001b[1;33m(\u001b[0m\u001b[0mtmas\u001b[0m \u001b[1;33m=\u001b[0m\u001b[0mTMAs\u001b[0m\u001b[1;33m,\u001b[0m \u001b[0mresp\u001b[0m\u001b[1;33m=\u001b[0m\u001b[0my\u001b[0m\u001b[1;33m,\u001b[0m \u001b[0mX\u001b[0m \u001b[1;33m=\u001b[0m \u001b[0mpd\u001b[0m\u001b[1;33m.\u001b[0m\u001b[0mDataFrame\u001b[0m\u001b[1;33m(\u001b[0m\u001b[0mX_k1\u001b[0m\u001b[1;33m)\u001b[0m\u001b[1;33m,\u001b[0m \u001b[0mclassifier\u001b[0m \u001b[1;33m=\u001b[0m \u001b[1;34m'rf'\u001b[0m\u001b[1;33m)\u001b[0m\u001b[1;33m\u001b[0m\u001b[1;33m\u001b[0m\u001b[0m\n\u001b[0m\u001b[0;32m      3\u001b[0m \u001b[0mrf_k2_1\u001b[0m\u001b[1;33m,\u001b[0m \u001b[0mrf_k2_2\u001b[0m \u001b[1;33m=\u001b[0m \u001b[0mcvAccuracy\u001b[0m\u001b[1;33m(\u001b[0m\u001b[0mtmas\u001b[0m \u001b[1;33m=\u001b[0m\u001b[0mTMAs\u001b[0m\u001b[1;33m,\u001b[0m \u001b[0mresp\u001b[0m\u001b[1;33m=\u001b[0m\u001b[0my\u001b[0m\u001b[1;33m,\u001b[0m \u001b[0mX\u001b[0m \u001b[1;33m=\u001b[0m \u001b[0mpd\u001b[0m\u001b[1;33m.\u001b[0m\u001b[0mDataFrame\u001b[0m\u001b[1;33m(\u001b[0m\u001b[0mX_k2\u001b[0m\u001b[1;33m)\u001b[0m\u001b[1;33m,\u001b[0m \u001b[0mclassifier\u001b[0m \u001b[1;33m=\u001b[0m \u001b[1;34m'rf'\u001b[0m\u001b[1;33m)\u001b[0m\u001b[1;33m\u001b[0m\u001b[1;33m\u001b[0m\u001b[0m\n\u001b[0;32m      4\u001b[0m \u001b[0mrf_k3_1\u001b[0m\u001b[1;33m,\u001b[0m \u001b[0mrf_k3_2\u001b[0m \u001b[1;33m=\u001b[0m \u001b[0mcvAccuracy\u001b[0m\u001b[1;33m(\u001b[0m\u001b[0mtmas\u001b[0m \u001b[1;33m=\u001b[0m\u001b[0mTMAs\u001b[0m\u001b[1;33m,\u001b[0m \u001b[0mresp\u001b[0m\u001b[1;33m=\u001b[0m\u001b[0my\u001b[0m\u001b[1;33m,\u001b[0m \u001b[0mX\u001b[0m \u001b[1;33m=\u001b[0m \u001b[0mpd\u001b[0m\u001b[1;33m.\u001b[0m\u001b[0mDataFrame\u001b[0m\u001b[1;33m(\u001b[0m\u001b[0mX_k3\u001b[0m\u001b[1;33m)\u001b[0m\u001b[1;33m,\u001b[0m \u001b[0mclassifier\u001b[0m \u001b[1;33m=\u001b[0m \u001b[1;34m'rf'\u001b[0m\u001b[1;33m)\u001b[0m\u001b[1;33m\u001b[0m\u001b[1;33m\u001b[0m\u001b[0m\n\u001b[0;32m      5\u001b[0m \u001b[0mrf_k4_1\u001b[0m\u001b[1;33m,\u001b[0m \u001b[0mrf_k4_2\u001b[0m \u001b[1;33m=\u001b[0m \u001b[0mcvAccuracy\u001b[0m\u001b[1;33m(\u001b[0m\u001b[0mtmas\u001b[0m \u001b[1;33m=\u001b[0m\u001b[0mTMAs\u001b[0m\u001b[1;33m,\u001b[0m \u001b[0mresp\u001b[0m\u001b[1;33m=\u001b[0m\u001b[0my\u001b[0m\u001b[1;33m,\u001b[0m \u001b[0mX\u001b[0m \u001b[1;33m=\u001b[0m \u001b[0mpd\u001b[0m\u001b[1;33m.\u001b[0m\u001b[0mDataFrame\u001b[0m\u001b[1;33m(\u001b[0m\u001b[0mX_k4\u001b[0m\u001b[1;33m)\u001b[0m\u001b[1;33m,\u001b[0m \u001b[0mclassifier\u001b[0m \u001b[1;33m=\u001b[0m \u001b[1;34m'rf'\u001b[0m\u001b[1;33m)\u001b[0m\u001b[1;33m\u001b[0m\u001b[1;33m\u001b[0m\u001b[0m\n",
      "\u001b[1;32m<ipython-input-9-20c700a9edc7>\u001b[0m in \u001b[0;36mcvAccuracy\u001b[1;34m(tmas, X, resp, classifier)\u001b[0m\n\u001b[0;32m     13\u001b[0m     \u001b[1;32mfor\u001b[0m \u001b[0mtma\u001b[0m \u001b[1;32min\u001b[0m \u001b[0mrange\u001b[0m\u001b[1;33m(\u001b[0m\u001b[1;36m1\u001b[0m\u001b[1;33m,\u001b[0m \u001b[0mlen\u001b[0m\u001b[1;33m(\u001b[0m\u001b[0mtmas_names\u001b[0m\u001b[1;33m)\u001b[0m\u001b[1;33m+\u001b[0m\u001b[1;36m1\u001b[0m\u001b[1;33m)\u001b[0m\u001b[1;33m:\u001b[0m\u001b[1;33m\u001b[0m\u001b[1;33m\u001b[0m\u001b[0m\n\u001b[0;32m     14\u001b[0m \u001b[1;33m\u001b[0m\u001b[0m\n\u001b[1;32m---> 15\u001b[1;33m         \u001b[0mX_train\u001b[0m \u001b[1;33m=\u001b[0m \u001b[0mX\u001b[0m\u001b[1;33m.\u001b[0m\u001b[0miloc\u001b[0m\u001b[1;33m[\u001b[0m\u001b[0mtmas\u001b[0m\u001b[1;33m[\u001b[0m\u001b[0mtmas\u001b[0m \u001b[1;33m!=\u001b[0m \u001b[0mtma\u001b[0m\u001b[1;33m]\u001b[0m\u001b[1;33m.\u001b[0m\u001b[0mindex\u001b[0m\u001b[1;33m,\u001b[0m \u001b[1;33m:\u001b[0m\u001b[1;33m]\u001b[0m\u001b[1;33m\u001b[0m\u001b[1;33m\u001b[0m\u001b[0m\n\u001b[0m\u001b[0;32m     16\u001b[0m \u001b[1;33m\u001b[0m\u001b[0m\n\u001b[0;32m     17\u001b[0m         \u001b[0mX_test\u001b[0m \u001b[1;33m=\u001b[0m \u001b[0mX\u001b[0m\u001b[1;33m.\u001b[0m\u001b[0miloc\u001b[0m\u001b[1;33m[\u001b[0m\u001b[0mtmas\u001b[0m\u001b[1;33m[\u001b[0m\u001b[0mtmas\u001b[0m \u001b[1;33m==\u001b[0m \u001b[0mtma\u001b[0m\u001b[1;33m]\u001b[0m\u001b[1;33m.\u001b[0m\u001b[0mindex\u001b[0m\u001b[1;33m,\u001b[0m \u001b[1;33m:\u001b[0m\u001b[1;33m]\u001b[0m\u001b[1;33m\u001b[0m\u001b[1;33m\u001b[0m\u001b[0m\n",
      "\u001b[1;32mD:\\Programme\\Miniconda\\lib\\site-packages\\pandas\\core\\indexing.py\u001b[0m in \u001b[0;36m__getitem__\u001b[1;34m(self, key)\u001b[0m\n\u001b[0;32m    887\u001b[0m                     \u001b[1;31m# AttributeError for IntervalTree get_value\u001b[0m\u001b[1;33m\u001b[0m\u001b[1;33m\u001b[0m\u001b[1;33m\u001b[0m\u001b[0m\n\u001b[0;32m    888\u001b[0m                     \u001b[1;32mreturn\u001b[0m \u001b[0mself\u001b[0m\u001b[1;33m.\u001b[0m\u001b[0mobj\u001b[0m\u001b[1;33m.\u001b[0m\u001b[0m_get_value\u001b[0m\u001b[1;33m(\u001b[0m\u001b[1;33m*\u001b[0m\u001b[0mkey\u001b[0m\u001b[1;33m,\u001b[0m \u001b[0mtakeable\u001b[0m\u001b[1;33m=\u001b[0m\u001b[0mself\u001b[0m\u001b[1;33m.\u001b[0m\u001b[0m_takeable\u001b[0m\u001b[1;33m)\u001b[0m\u001b[1;33m\u001b[0m\u001b[1;33m\u001b[0m\u001b[0m\n\u001b[1;32m--> 889\u001b[1;33m             \u001b[1;32mreturn\u001b[0m \u001b[0mself\u001b[0m\u001b[1;33m.\u001b[0m\u001b[0m_getitem_tuple\u001b[0m\u001b[1;33m(\u001b[0m\u001b[0mkey\u001b[0m\u001b[1;33m)\u001b[0m\u001b[1;33m\u001b[0m\u001b[1;33m\u001b[0m\u001b[0m\n\u001b[0m\u001b[0;32m    890\u001b[0m         \u001b[1;32melse\u001b[0m\u001b[1;33m:\u001b[0m\u001b[1;33m\u001b[0m\u001b[1;33m\u001b[0m\u001b[0m\n\u001b[0;32m    891\u001b[0m             \u001b[1;31m# we by definition only have the 0th axis\u001b[0m\u001b[1;33m\u001b[0m\u001b[1;33m\u001b[0m\u001b[1;33m\u001b[0m\u001b[0m\n",
      "\u001b[1;32mD:\\Programme\\Miniconda\\lib\\site-packages\\pandas\\core\\indexing.py\u001b[0m in \u001b[0;36m_getitem_tuple\u001b[1;34m(self, tup)\u001b[0m\n\u001b[0;32m   1448\u001b[0m     \u001b[1;32mdef\u001b[0m \u001b[0m_getitem_tuple\u001b[0m\u001b[1;33m(\u001b[0m\u001b[0mself\u001b[0m\u001b[1;33m,\u001b[0m \u001b[0mtup\u001b[0m\u001b[1;33m:\u001b[0m \u001b[0mTuple\u001b[0m\u001b[1;33m)\u001b[0m\u001b[1;33m:\u001b[0m\u001b[1;33m\u001b[0m\u001b[1;33m\u001b[0m\u001b[0m\n\u001b[0;32m   1449\u001b[0m \u001b[1;33m\u001b[0m\u001b[0m\n\u001b[1;32m-> 1450\u001b[1;33m         \u001b[0mself\u001b[0m\u001b[1;33m.\u001b[0m\u001b[0m_has_valid_tuple\u001b[0m\u001b[1;33m(\u001b[0m\u001b[0mtup\u001b[0m\u001b[1;33m)\u001b[0m\u001b[1;33m\u001b[0m\u001b[1;33m\u001b[0m\u001b[0m\n\u001b[0m\u001b[0;32m   1451\u001b[0m         \u001b[1;32mwith\u001b[0m \u001b[0msuppress\u001b[0m\u001b[1;33m(\u001b[0m\u001b[0mIndexingError\u001b[0m\u001b[1;33m)\u001b[0m\u001b[1;33m:\u001b[0m\u001b[1;33m\u001b[0m\u001b[1;33m\u001b[0m\u001b[0m\n\u001b[0;32m   1452\u001b[0m             \u001b[1;32mreturn\u001b[0m \u001b[0mself\u001b[0m\u001b[1;33m.\u001b[0m\u001b[0m_getitem_lowerdim\u001b[0m\u001b[1;33m(\u001b[0m\u001b[0mtup\u001b[0m\u001b[1;33m)\u001b[0m\u001b[1;33m\u001b[0m\u001b[1;33m\u001b[0m\u001b[0m\n",
      "\u001b[1;32mD:\\Programme\\Miniconda\\lib\\site-packages\\pandas\\core\\indexing.py\u001b[0m in \u001b[0;36m_has_valid_tuple\u001b[1;34m(self, key)\u001b[0m\n\u001b[0;32m    721\u001b[0m         \u001b[1;32mfor\u001b[0m \u001b[0mi\u001b[0m\u001b[1;33m,\u001b[0m \u001b[0mk\u001b[0m \u001b[1;32min\u001b[0m \u001b[0menumerate\u001b[0m\u001b[1;33m(\u001b[0m\u001b[0mkey\u001b[0m\u001b[1;33m)\u001b[0m\u001b[1;33m:\u001b[0m\u001b[1;33m\u001b[0m\u001b[1;33m\u001b[0m\u001b[0m\n\u001b[0;32m    722\u001b[0m             \u001b[1;32mtry\u001b[0m\u001b[1;33m:\u001b[0m\u001b[1;33m\u001b[0m\u001b[1;33m\u001b[0m\u001b[0m\n\u001b[1;32m--> 723\u001b[1;33m                 \u001b[0mself\u001b[0m\u001b[1;33m.\u001b[0m\u001b[0m_validate_key\u001b[0m\u001b[1;33m(\u001b[0m\u001b[0mk\u001b[0m\u001b[1;33m,\u001b[0m \u001b[0mi\u001b[0m\u001b[1;33m)\u001b[0m\u001b[1;33m\u001b[0m\u001b[1;33m\u001b[0m\u001b[0m\n\u001b[0m\u001b[0;32m    724\u001b[0m             \u001b[1;32mexcept\u001b[0m \u001b[0mValueError\u001b[0m \u001b[1;32mas\u001b[0m \u001b[0merr\u001b[0m\u001b[1;33m:\u001b[0m\u001b[1;33m\u001b[0m\u001b[1;33m\u001b[0m\u001b[0m\n\u001b[0;32m    725\u001b[0m                 raise ValueError(\n",
      "\u001b[1;32mD:\\Programme\\Miniconda\\lib\\site-packages\\pandas\\core\\indexing.py\u001b[0m in \u001b[0;36m_validate_key\u001b[1;34m(self, key, axis)\u001b[0m\n\u001b[0;32m   1371\u001b[0m             \u001b[1;31m# check that the key does not exceed the maximum size of the index\u001b[0m\u001b[1;33m\u001b[0m\u001b[1;33m\u001b[0m\u001b[1;33m\u001b[0m\u001b[0m\n\u001b[0;32m   1372\u001b[0m             \u001b[1;32mif\u001b[0m \u001b[0mlen\u001b[0m\u001b[1;33m(\u001b[0m\u001b[0marr\u001b[0m\u001b[1;33m)\u001b[0m \u001b[1;32mand\u001b[0m \u001b[1;33m(\u001b[0m\u001b[0marr\u001b[0m\u001b[1;33m.\u001b[0m\u001b[0mmax\u001b[0m\u001b[1;33m(\u001b[0m\u001b[1;33m)\u001b[0m \u001b[1;33m>=\u001b[0m \u001b[0mlen_axis\u001b[0m \u001b[1;32mor\u001b[0m \u001b[0marr\u001b[0m\u001b[1;33m.\u001b[0m\u001b[0mmin\u001b[0m\u001b[1;33m(\u001b[0m\u001b[1;33m)\u001b[0m \u001b[1;33m<\u001b[0m \u001b[1;33m-\u001b[0m\u001b[0mlen_axis\u001b[0m\u001b[1;33m)\u001b[0m\u001b[1;33m:\u001b[0m\u001b[1;33m\u001b[0m\u001b[1;33m\u001b[0m\u001b[0m\n\u001b[1;32m-> 1373\u001b[1;33m                 \u001b[1;32mraise\u001b[0m \u001b[0mIndexError\u001b[0m\u001b[1;33m(\u001b[0m\u001b[1;34m\"positional indexers are out-of-bounds\"\u001b[0m\u001b[1;33m)\u001b[0m\u001b[1;33m\u001b[0m\u001b[1;33m\u001b[0m\u001b[0m\n\u001b[0m\u001b[0;32m   1374\u001b[0m         \u001b[1;32melse\u001b[0m\u001b[1;33m:\u001b[0m\u001b[1;33m\u001b[0m\u001b[1;33m\u001b[0m\u001b[0m\n\u001b[0;32m   1375\u001b[0m             \u001b[1;32mraise\u001b[0m \u001b[0mValueError\u001b[0m\u001b[1;33m(\u001b[0m\u001b[1;34mf\"Can only index by location with a [{self._valid_types}]\"\u001b[0m\u001b[1;33m)\u001b[0m\u001b[1;33m\u001b[0m\u001b[1;33m\u001b[0m\u001b[0m\n",
      "\u001b[1;31mIndexError\u001b[0m: positional indexers are out-of-bounds"
     ]
    }
   ],
   "source": [
    "rf_raw_1, rf_raw_2 = cvAccuracy(tmas =TMAs, resp=y, X = X_values, classifier='rf')\n",
    "rf_k1_1, rf_k1_2 = cvAccuracy(tmas =TMAs, resp=y, X = pd.DataFrame(X_k1), classifier = 'rf')\n",
    "rf_k2_1, rf_k2_2 = cvAccuracy(tmas =TMAs, resp=y, X = pd.DataFrame(X_k2), classifier = 'rf')\n",
    "rf_k3_1, rf_k3_2 = cvAccuracy(tmas =TMAs, resp=y, X = pd.DataFrame(X_k3), classifier = 'rf')\n",
    "rf_k4_1, rf_k4_2 = cvAccuracy(tmas =TMAs, resp=y, X = pd.DataFrame(X_k4), classifier = 'rf')\n",
    "rf_k5_1, rf_k5_2 = cvAccuracy(tmas =TMAs, resp=y, X = pd.DataFrame(X_k5), classifier = 'rf')"
   ]
  },
  {
   "cell_type": "code",
   "execution_count": null,
   "id": "e85cee2a",
   "metadata": {},
   "outputs": [],
   "source": [
    "print(Average(rf_raw_1), Average(rf_k1_1), Average(rf_k2_1), Average(rf_k3_1), Average(rf_k4_1), Average(rf_k5_1))"
   ]
  },
  {
   "cell_type": "code",
   "execution_count": null,
   "id": "b2d2c76e",
   "metadata": {},
   "outputs": [],
   "source": [
    "q1, q2 = cvAccuracy(tmas =TMAs, resp=y, X = X_values, classifier='log')"
   ]
  },
  {
   "cell_type": "code",
   "execution_count": null,
   "id": "ca453217",
   "metadata": {},
   "outputs": [],
   "source": [
    "res_k1_1, res_k1_2 = cvAccuracy(tmas =TMAs, resp=y, X = pd.DataFrame(X_k1), classifier = 'log')"
   ]
  },
  {
   "cell_type": "code",
   "execution_count": null,
   "id": "5eff1f66",
   "metadata": {},
   "outputs": [],
   "source": [
    "res_k2_1, res_k2_2 = cvAccuracy(tmas =TMAs, resp=y, X = pd.DataFrame(X_k2), classifier = 'log')"
   ]
  },
  {
   "cell_type": "code",
   "execution_count": null,
   "id": "3129406a",
   "metadata": {},
   "outputs": [],
   "source": [
    "res_k3_1, res_k3_2 = cvAccuracy(tmas =TMAs, resp=y, X = pd.DataFrame(X_k3), classifier = 'log')"
   ]
  },
  {
   "cell_type": "code",
   "execution_count": null,
   "id": "916bfff4",
   "metadata": {},
   "outputs": [],
   "source": [
    "res_k4_1, res_k4_2 = cvAccuracy(tmas =TMAs, resp=y, X = pd.DataFrame(X_k4), classifier = 'log')"
   ]
  },
  {
   "cell_type": "code",
   "execution_count": null,
   "id": "d20afda2",
   "metadata": {},
   "outputs": [],
   "source": [
    "res_k5_1, res_k5_2 = cvAccuracy(tmas =TMAs, resp=y, X = pd.DataFrame(X_k5), classifier = 'log')"
   ]
  },
  {
   "cell_type": "code",
   "execution_count": null,
   "id": "dae05f16",
   "metadata": {},
   "outputs": [],
   "source": [
    "res_k6_1, res_k6_2 = cvAccuracy(tmas =TMAs, resp=y, X = pd.DataFrame(X_k6), classifier = 'log')"
   ]
  },
  {
   "cell_type": "code",
   "execution_count": null,
   "id": "b6e82cdb",
   "metadata": {},
   "outputs": [],
   "source": [
    "print(Average(q1), Average(res_k1_1), Average(res_k2_1),\n",
    "      Average(res_k3_1), Average(res_k4_1), Average(res_k5_1), Average(res_k6_1))"
   ]
  },
  {
   "cell_type": "code",
   "execution_count": null,
   "id": "39314633",
   "metadata": {},
   "outputs": [],
   "source": [
    "print(np.count_nonzero(s2), np.count_nonzero(s3), np.count_nonzero(s4))"
   ]
  },
  {
   "cell_type": "code",
   "execution_count": null,
   "id": "fbbd1466",
   "metadata": {},
   "outputs": [],
   "source": [
    "results = pd.concat([pd.Series(q1), pd.Series(res_k1_1), pd.Series(res_k2_1), pd.Series(res_k3_1), \n",
    "                     pd.Series(res_k4_1), pd.Series(res_k5_1),\n",
    "                     pd.Series(res_k5_1)], axis=1)\n",
    "\n",
    "results = pd.DataFrame(results)\n",
    "\n",
    "results.boxplot()\n",
    "#sns.boxplot(results.iloc[:, 0:1])"
   ]
  }
 ],
 "metadata": {
  "kernelspec": {
   "display_name": "Python 3",
   "language": "python",
   "name": "python3"
  },
  "language_info": {
   "codemirror_mode": {
    "name": "ipython",
    "version": 3
   },
   "file_extension": ".py",
   "mimetype": "text/x-python",
   "name": "python",
   "nbconvert_exporter": "python",
   "pygments_lexer": "ipython3",
   "version": "3.8.5"
  }
 },
 "nbformat": 4,
 "nbformat_minor": 5
}
