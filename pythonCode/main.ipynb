{
 "cells": [
  {
   "cell_type": "code",
   "execution_count": 26,
   "id": "1fc17587",
   "metadata": {},
   "outputs": [],
   "source": [
    "import pyreadr\n",
    "import numpy as np\n",
    "import pandas as pd\n",
    "import json\n",
    "\n",
    "from pymatreader import read_mat\n",
    "from sklearn.metrics import accuracy_score\n",
    "from sklearn.linear_model import LogisticRegression#, LogisticRegressionCV\n",
    "from sklearn.ensemble import RandomForestClassifier\n",
    "import matplotlib\n",
    "from sklearn.ensemble import RandomForestClassifier\n",
    "from sklearn.metrics import balanced_accuracy_score\n",
    "matplotlib.style.use('ggplot')"
   ]
  },
  {
   "cell_type": "code",
   "execution_count": 27,
   "id": "1f2c1e05",
   "metadata": {},
   "outputs": [],
   "source": [
    "def recursionStart(spectra):\n",
    "    featurePairs = []\n",
    "    maxima = []\n",
    "    minima = []\n",
    "    \n",
    "    for i in range(1, len(spectra) - 1):\n",
    "        if spectra[i] > spectra[i-1]:\n",
    "            if spectra[i] >= spectra[i+1]:\n",
    "                for j in range(i+1, len(spectra)):\n",
    "                    if spectra[i] > spectra[j]:\n",
    "                        maxima.append([i, spectra[i]])\n",
    "                        break\n",
    "                    elif spectra[i] < spectra[j]:\n",
    "                        break\n",
    "        if spectra[i] < spectra[i-1]:\n",
    "            if spectra[i] <= spectra[i+1]:\n",
    "                for j in range(i+1, len(spectra)):\n",
    "                    if spectra[i] < spectra[j]:\n",
    "                        minima.append([i, spectra[i]])\n",
    "                        break\n",
    "                    elif spectra[i] > spectra[j]:\n",
    "                        break\n",
    "    maxima.sort(key = lambda element: element[1], reverse = True)\n",
    "    minima.sort(key = lambda element: element[1])\n",
    "    \n",
    "    globalMaxima = maxima.pop(0)\n",
    "    featurePairs.append([globalMaxima[0], globalMaxima[1] - minima[0][1]])\n",
    "    \n",
    "    recursionStep(0, globalMaxima[0], maxima.copy(), minima.copy(), featurePairs)\n",
    "    recursionStep(len(spectra) - 1, globalMaxima[0], maxima.copy(), minima.copy(), featurePairs)\n",
    "    \n",
    "    return featurePairs\n",
    "\n",
    "def recursionStep(start, end, maxima, minima, featurePairs):\n",
    "    factor = 1\n",
    "    if end < start:\n",
    "        factor = -1\n",
    "    currentMaxima = []\n",
    "    for i in range(len(maxima)):\n",
    "        position = maxima[i][0]\n",
    "        if start * factor < position * factor and position * factor < end * factor:\n",
    "            currentMaxima.append(maxima[i])\n",
    "    if len(currentMaxima) == 0:\n",
    "        return\n",
    "    localMaxima = currentMaxima.pop(0)\n",
    "    recursionStep(start, localMaxima[0], currentMaxima.copy(), minima.copy(), featurePairs)\n",
    "    currentMinima = []\n",
    "    for i in range(len(minima)):\n",
    "        position = minima[i][0]\n",
    "        if localMaxima[0] * factor < position * factor and position * factor < end:\n",
    "            currentMinima.append(minima[i])\n",
    "    localMinima = currentMinima.pop(0)\n",
    "    featurePairs.append([localMaxima[0], localMaxima[1] - localMinima[1]])\n",
    "    recursionStep(localMinima[0], localMaxima[0], currentMaxima.copy(), currentMinima.copy(), featurePairs)\n",
    "    recursionStep(localMinima[0], end, currentMaxima.copy(), currentMinima.copy(), featurePairs)"
   ]
  },
  {
   "cell_type": "code",
   "execution_count": 28,
   "id": "d799ea1e",
   "metadata": {},
   "outputs": [],
   "source": [
    "def getPersistenceTransformation(data_X, listOfK):\n",
    "    spectras = []\n",
    "    for i in range(len(data_X)):\n",
    "        featurePairs = recursionStart(data_X.iloc[i])\n",
    "        featurePairs.sort(key = lambda element: element[1], reverse = True)\n",
    "        spectras.append(featurePairs)\n",
    "        \n",
    "    spectrasForEachK = []\n",
    "    \n",
    "    for k in listOfK:\n",
    "        transformationForSpectra = []\n",
    "        for i in range(0, len(spectras)):\n",
    "            transformation = [0] * len(data_X.iloc[i])\n",
    "            featurePairs = spectras[i][0:round(k*len(spectras[i]))]\n",
    "            for x, fx in featurePairs:\n",
    "                transformation[x] = fx\n",
    "            transformationForSpectra.append(transformation)\n",
    "        spectrasForEachK.append(transformationForSpectra)\n",
    "    return spectrasForEachK"
   ]
  },
  {
   "cell_type": "code",
   "execution_count": 29,
   "id": "78cb0e9e",
   "metadata": {},
   "outputs": [],
   "source": [
    "def writeSpectraToFile(path, spectra):\n",
    "    with open(path, 'a') as fp:\n",
    "        for s in spectra:\n",
    "            fp.write(str(s) +\"\\n\")\n",
    "            \n",
    "def readSpectraFromFile(path):\n",
    "    spectra = []\n",
    "    for line in open(path, 'r'):\n",
    "        spectra.append(json.loads(line))\n",
    "    return spectra"
   ]
  },
  {
   "cell_type": "code",
   "execution_count": 30,
   "id": "6e3242a9",
   "metadata": {},
   "outputs": [],
   "source": [
    "\n",
    "def cvAccuracy(tmas, X, resp, classifier):\n",
    "    \n",
    "    tmas_names = ['TMA_1:', 'TMA_2:', 'TMA_3:', 'TMA_4:', 'TMA_5:', 'TMA_6:', 'TMA_7:', 'TMA_8:']\n",
    "    \n",
    "    tmas_res_test   = []\n",
    "    tmas_vals_test  = []\n",
    "    tmas_res_train  = []\n",
    "    tmas_vals_train = []\n",
    "    \n",
    "    for tma in range(1, len(tmas_names)+1):\n",
    "    \n",
    "        X_train = X.iloc[tmas[tmas != tma].index, :]\n",
    "\n",
    "        X_test = X.iloc[tmas[tmas == tma].index, :]\n",
    "\n",
    "        y_train = resp.iloc[tmas[tmas != tma].index, :]\n",
    "\n",
    "        y_test = resp.iloc[tmas[tmas == tma].index, :]\n",
    "        \n",
    "        if (classifier == 'log'):\n",
    "\n",
    "            logreg = LogisticRegression(penalty = 'none', solver = 'newton-cg')\n",
    "\n",
    "            logreg.fit(X_train, y_train.values.ravel())\n",
    "\n",
    "            y_pred = logreg.predict_proba(X_test)\n",
    "\n",
    "            y_pred_1 = np.where(y_pred[:, 1] > 0.5, 1, 0)\n",
    "\n",
    "            accuracy = balanced_accuracy_score(y_test, y_pred_1)\n",
    "            \n",
    "            tmas_vals_test.append(accuracy)\n",
    "\n",
    "            tmp_tmas = [tmas_names[tma-1], accuracy]\n",
    "\n",
    "            tmas_res_test.append(tmp_tmas)\n",
    "            \n",
    "        if (classifier == 'rf'):\n",
    "            \n",
    "            rf = RandomForestClassifier(n_estimators= 500, random_state= 1234)\n",
    "            \n",
    "            rf.fit(X_train, y_train.values.ravel())\n",
    "            \n",
    "            y_pred_rf = rf.predict(X_test)\n",
    "            \n",
    "            accuracy = balanced_accuracy_score(y_test, y_pred_rf)\n",
    "            \n",
    "            tmas_vals_test.append(accuracy)\n",
    "\n",
    "            tmp_tmas = [tmas_names[tma-1], accuracy]\n",
    "\n",
    "            tmas_res_test.append(tmp_tmas)\n",
    "        \n",
    "    return tmas_vals_test, tmas_res_test  \n",
    "\n",
    "def Average(lst):\n",
    "    return sum(lst) / len(lst)\n",
    "    "
   ]
  },
  {
   "cell_type": "code",
   "execution_count": 31,
   "id": "859854bd",
   "metadata": {},
   "outputs": [],
   "source": [
    "# Loading Data from Matlab\n",
    "dataMaldi = read_mat('data/L1-8_tic_ad_sq.mat')\n",
    "\n",
    "X_values = pd.DataFrame(dataMaldi['data_tic'])#Reading the mz-values \n",
    "                                #to get pd's as input for the ml\n",
    "classes = pd.DataFrame(dataMaldi['classes'])#The cancer Typ, result for ml\n",
    "\n",
    "mz_values = pd.DataFrame(dataMaldi['mzVector'])\n",
    "\n",
    "TMAs   = pd.Series(dataMaldi['tmas'])\n",
    "\n",
    "p = X_values.shape[0]\n",
    "\n",
    "y = pd.DataFrame(np.where(classes == 1, 0, 1))"
   ]
  },
  {
   "cell_type": "code",
   "execution_count": null,
   "id": "af428391",
   "metadata": {},
   "outputs": [],
   "source": [
    "listOfk = [0.01, 0.05, 0.1, 0.2, 0.25, 0.4, 0.5]\n",
    "ListOfXk = getPersistenceTransformation(data_X = X_values, listOfK = listOfk)\n",
    "X_k1 = ListOfXk[0]\n",
    "X_k2 = ListOfXk[1]\n",
    "X_k3 = ListOfXk[2]\n",
    "X_k4 = ListOfXk[3]\n",
    "X_k5 = ListOfXk[4]\n",
    "X_k6 = ListOfXk[5]\n",
    "X_k7 = ListOfXk[6]"
   ]
  },
  {
   "cell_type": "code",
   "execution_count": null,
   "id": "0eeb5166",
   "metadata": {},
   "outputs": [],
   "source": [
    "writeSpectraToFile('intermediate_results/sk1.csv', X_k1)\n",
    "writeSpectraToFile('intermediate_results/sk2.csv', X_k2)\n",
    "writeSpectraToFile('intermediate_results/sk3.csv', X_k3)\n",
    "writeSpectraToFile('intermediate_results/sk4.csv', X_k4)\n",
    "writeSpectraToFile('intermediate_results/sk5.csv', X_k5)\n",
    "writeSpectraToFile('intermediate_results/sk6.csv', X_k6)\n",
    "writeSpectraToFile('intermediate_results/sk7.csv', X_k7)"
   ]
  },
  {
   "cell_type": "code",
   "execution_count": 13,
   "id": "452a3248",
   "metadata": {},
   "outputs": [],
   "source": [
    "#s1 = X_values.loc[[22]]\n",
    "#s2 = pd.DataFrame(X_k1).loc[[22]]\n",
    "#s3 = pd.DataFrame(X_k2).loc[[22]]\n",
    "#s4 = pd.DataFrame(X_k5).loc[[22]]"
   ]
  },
  {
   "cell_type": "code",
   "execution_count": 19,
   "id": "39314633",
   "metadata": {},
   "outputs": [
    {
     "name": "stdout",
     "output_type": "stream",
     "text": [
      "5 24 118\n"
     ]
    }
   ],
   "source": [
    "#print(np.count_nonzero(s2), np.count_nonzero(s3), np.count_nonzero(s4))"
   ]
  },
  {
   "cell_type": "code",
   "execution_count": 21,
   "id": "b4dc6eb9",
   "metadata": {},
   "outputs": [],
   "source": [
    "#rf_raw_1, rf_raw_2 = cvAccuracy(tmas =TMAs, resp=y, X = X_values, classifier='rf')\n",
    "#rf_k1_1, rf_k1_2 = cvAccuracy(tmas =TMAs, resp=y, X = pd.DataFrame(X_k1), classifier = 'rf')\n",
    "#rf_k2_1, rf_k2_2 = cvAccuracy(tmas =TMAs, resp=y, X = pd.DataFrame(X_k2), classifier = 'rf')\n",
    "#rf_k3_1, rf_k3_2 = cvAccuracy(tmas =TMAs, resp=y, X = pd.DataFrame(X_k3), classifier = 'rf')\n",
    "#rf_k4_1, rf_k4_2 = cvAccuracy(tmas =TMAs, resp=y, X = pd.DataFrame(X_k4), classifier = 'rf')\n",
    "#rf_k5_1, rf_k5_2 = cvAccuracy(tmas =TMAs, resp=y, X = pd.DataFrame(X_k5), classifier = 'rf')\n",
    "#rf_k6_1, rf_k6_2 = cvAccuracy(tmas =TMAs, resp=y, X = pd.DataFrame(X_k6), classifier = 'rf')"
   ]
  },
  {
   "cell_type": "code",
   "execution_count": null,
   "id": "e85cee2a",
   "metadata": {},
   "outputs": [],
   "source": [
    "#print(Average(rf_raw_1), Average(rf_k1_1), Average(rf_k2_1), Average(rf_k3_1), Average(rf_k4_1), Average(rf_k5_1), Average(rf_k6_1))"
   ]
  },
  {
   "cell_type": "code",
   "execution_count": 13,
   "id": "b2d2c76e",
   "metadata": {},
   "outputs": [],
   "source": [
    "q1, q2 = cvAccuracy(tmas =TMAs, resp=y, X = X_values, classifier='log')\n",
    "res_k1_1, res_k1_2 = cvAccuracy(tmas =TMAs, resp=y, X = pd.DataFrame(X_k1), classifier = 'log')\n",
    "res_k2_1, res_k2_2 = cvAccuracy(tmas =TMAs, resp=y, X = pd.DataFrame(X_k2), classifier = 'log')\n",
    "res_k3_1, res_k3_2 = cvAccuracy(tmas =TMAs, resp=y, X = pd.DataFrame(X_k3), classifier = 'log')\n",
    "res_k4_1, res_k4_2 = cvAccuracy(tmas =TMAs, resp=y, X = pd.DataFrame(X_k4), classifier = 'log')\n",
    "res_k5_1, res_k5_2 = cvAccuracy(tmas =TMAs, resp=y, X = pd.DataFrame(X_k5), classifier = 'log')\n",
    "res_k6_1, res_k6_2 = cvAccuracy(tmas =TMAs, resp=y, X = pd.DataFrame(X_k6), classifier = 'log')\n",
    "res_k7_1, res_k7_2 = cvAccuracy(tmas =TMAs, resp=y, X = pd.DataFrame(X_k7), classifier = 'log')"
   ]
  },
  {
   "cell_type": "code",
   "execution_count": 17,
   "id": "b6e82cdb",
   "metadata": {},
   "outputs": [
    {
     "name": "stdout",
     "output_type": "stream",
     "text": [
      "0.8543491108122071 0.6651460684526553 0.7429994694276305 0.8569487575651537 0.8622455771283603 0.8572790691659951 0.8836458115027419 0.8814363847386475\n"
     ]
    }
   ],
   "source": [
    "print(Average(q1[::2]), Average(res_k1_1[::2]), Average(res_k2_1[::2]),\n",
    "      Average(res_k3_1[::2]), Average(res_k4_1[::2]), Average(res_k5_1[::2]), Average(res_k6_1[::2]), Average(res_k7_1[::2]))"
   ]
  },
  {
   "cell_type": "code",
   "execution_count": 20,
   "id": "fbbd1466",
   "metadata": {},
   "outputs": [
    {
     "data": {
      "text/plain": [
       "<AxesSubplot:>"
      ]
     },
     "execution_count": 20,
     "metadata": {},
     "output_type": "execute_result"
    },
    {
     "data": {
      "image/png": "[encoded data removed]",
      "text/plain": [
       "<Figure size 432x288 with 1 Axes>"
      ]
     },
     "metadata": {
      "needs_background": "light"
     },
     "output_type": "display_data"
    }
   ],
   "source": [
    "results = pd.concat([pd.Series(q1[::2]), pd.Series(res_k1_1[::2]), pd.Series(res_k2_1[::2]), pd.Series(res_k3_1[::2]), \n",
    "                     pd.Series(res_k4_1[::2]), pd.Series(res_k5_1[::2]),\n",
    "                     pd.Series(res_k6_1[::2])], axis=1)\n",
    "\n",
    "results = pd.DataFrame(results)\n",
    "\n",
    "results.boxplot()\n",
    "#sns.boxplot(results.iloc[:, 0:1])"
   ]
  }
 ],
 "metadata": {
  "kernelspec": {
   "display_name": "Python 3 (ipykernel)",
   "language": "python",
   "name": "python3"
  },
  "language_info": {
   "codemirror_mode": {
    "name": "ipython",
    "version": 3
   },
   "file_extension": ".py",
   "mimetype": "text/x-python",
   "name": "python",
   "nbconvert_exporter": "python",
   "pygments_lexer": "ipython3",
   "version": "3.9.7"
  }
 },
 "nbformat": 4,
 "nbformat_minor": 5
}
