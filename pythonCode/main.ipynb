{
 "cells": [
  {
   "cell_type": "code",
   "execution_count": 15,
   "id": "1fc17587",
   "metadata": {},
   "outputs": [],
   "source": [
    "import pyreadr\n",
    "import numpy as np\n",
    "import pandas as pd\n",
    "import json\n",
    "\n",
    "from pymatreader import read_mat\n",
    "\n",
    "from sklearn.metrics import accuracy_score\n",
    "from sklearn.linear_model import LogisticRegression#, LogisticRegressionCV\n",
    "from sklearn.ensemble import RandomForestClassifier\n",
    "\n",
    "#from sklearn.preprocessing import StandardScaler\n",
    "#from sklearn.model_selection import cross_val_score, GridSearchCV, train_test_split\n",
    "#from sklearn import preprocessing\n",
    "\n",
    "#from tqdm import tqdm\n",
    "\n",
    "#import math\n",
    "#import matplotlib.pyplot as plt\n",
    "#import time\n",
    "#import seaborn as sns"
   ]
  },
  {
   "cell_type": "code",
   "execution_count": 3,
   "id": "1f2c1e05",
   "metadata": {},
   "outputs": [],
   "source": [
    "def recursionStart(spectra):\n",
    "    featurePairs = []\n",
    "    maxima = []\n",
    "    minima = []\n",
    "    \n",
    "    for i in range(1, len(spectra) - 1):\n",
    "        if spectra[i] > spectra[i-1]:\n",
    "            if spectra[i] >= spectra[i+1]:\n",
    "                for j in range(i+1, len(spectra)):\n",
    "                    if spectra[i] > spectra[j]:\n",
    "                        maxima.append([i, spectra[i]])\n",
    "                        break\n",
    "                    elif spectra[i] < spectra[j]:\n",
    "                        break\n",
    "        if spectra[i] < spectra[i-1]:\n",
    "            if spectra[i] <= spectra[i+1]:\n",
    "                for j in range(i+1, len(spectra)):\n",
    "                    if spectra[i] < spectra[j]:\n",
    "                        minima.append([i, spectra[i]])\n",
    "                        break\n",
    "                    elif spectra[i] > spectra[j]:\n",
    "                        break\n",
    "    maxima.sort(key = lambda element: element[1], reverse = True)\n",
    "    minima.sort(key = lambda element: element[1])\n",
    "    \n",
    "    globalMaxima = maxima.pop(0)\n",
    "    featurePairs.append([globalMaxima[0], globalMaxima[1] - minima[0][1]])\n",
    "    \n",
    "    recursionStep(0, globalMaxima[0], maxima.copy(), minima.copy(), featurePairs)\n",
    "    recursionStep(len(spectra) - 1, globalMaxima[0], maxima.copy(), minima.copy(), featurePairs)\n",
    "    \n",
    "    return featurePairs\n",
    "\n",
    "def recursionStep(start, end, maxima, minima, featurePairs):\n",
    "    factor = 1\n",
    "    if end < start:\n",
    "        factor = -1\n",
    "    currentMaxima = []\n",
    "    for i in range(len(maxima)):\n",
    "        position = maxima[i][0]\n",
    "        if start * factor < position * factor and position * factor < end * factor:\n",
    "            currentMaxima.append(maxima[i])\n",
    "    if len(currentMaxima) == 0:\n",
    "        return\n",
    "    localMaxima = currentMaxima.pop(0)\n",
    "    recursionStep(start, localMaxima[0], currentMaxima.copy(), minima.copy(), featurePairs)\n",
    "    currentMinima = []\n",
    "    for i in range(len(minima)):\n",
    "        position = minima[i][0]\n",
    "        if localMaxima[0] * factor < position * factor and position * factor < end:\n",
    "            currentMinima.append(minima[i])\n",
    "    localMinima = currentMinima.pop(0)\n",
    "    featurePairs.append([localMaxima[0], localMaxima[1] - localMinima[1]])\n",
    "    recursionStep(localMinima[0], localMaxima[0], currentMaxima.copy(), currentMinima.copy(), featurePairs)\n",
    "    recursionStep(localMinima[0], end, currentMaxima.copy(), currentMinima.copy(), featurePairs)"
   ]
  },
  {
   "cell_type": "code",
   "execution_count": 5,
   "id": "d799ea1e",
   "metadata": {},
   "outputs": [],
   "source": [
    "def getPersistenceTransformation(data_X, listOfK):\n",
    "    spectras = []\n",
    "    for i in range(len(data_X)):\n",
    "        featurePairs = recursionStart(data_X.iloc[i])\n",
    "        featurePairs.sort(key = lambda element: element[1], reverse = True)\n",
    "        spectras.append(featurePairs)\n",
    "        \n",
    "    spectrasForEachK = []\n",
    "    \n",
    "    for k in listOfK:\n",
    "        transformationForSpectra = []\n",
    "        for i in range(0, len(spectras)):\n",
    "            transformation = [0] * len(data_X.iloc[i])\n",
    "            featurePairs = spectras[i][0:round(k*len(spectras[i]))]\n",
    "            for x, fx in featurePairs:\n",
    "                transformation[x] = fx\n",
    "            transformationForSpectra.append(transformation)\n",
    "        spectrasForEachK.append(transformationForSpectra)\n",
    "    return spectrasForEachK"
   ]
  },
  {
   "cell_type": "code",
   "execution_count": 6,
   "id": "78cb0e9e",
   "metadata": {},
   "outputs": [],
   "source": [
    "def writeSpectraToFile(path, spectra):\n",
    "    with open(path, 'a') as fp:\n",
    "        for s in spectra:\n",
    "            fp.write(str(s) +\"\\n\")\n",
    "            \n",
    "def readSpectraFromFile(path):\n",
    "    spectra = []\n",
    "    for line in open(path, 'r'):\n",
    "        spectra.append(json.loads(line))\n",
    "    return spectra"
   ]
  },
  {
   "cell_type": "code",
   "execution_count": 8,
   "id": "6e3242a9",
   "metadata": {},
   "outputs": [],
   "source": [
    "## First part of the experiments - carry out (8 fold) cross-validation based on each TMAs \n",
    "## There should be Figures (3) and (4) in the paper Leuschner et al. \n",
    "\n",
    "def cvAccuracy(tmas, X, resp, classifier):\n",
    "    \n",
    "    tmas_names = ['L1:', 'L2:', 'L3:', 'L4:', 'L5:', 'L6:', 'L7:', 'L8:']\n",
    "    \n",
    "    tmas_res_test   = []\n",
    "    tmas_vals_test  = []\n",
    "    tmas_res_train  = []\n",
    "    tmas_vals_train = []\n",
    "    \n",
    "    for tma in range(1, len(tmas_names)+1):\n",
    "    \n",
    "        X_train = X.iloc[tmas[tmas != tma].index, :]\n",
    "\n",
    "        X_test = X.iloc[tmas[tmas == tma].index, :]\n",
    "\n",
    "        y_train = resp.iloc[tmas[tmas != tma].index, :]\n",
    "\n",
    "        y_test = resp.iloc[tmas[tmas == tma].index, :]\n",
    "        \n",
    "        if (classifier == 'log'):\n",
    "\n",
    "            logreg = LogisticRegression(penalty = 'none', solver = 'newton-cg')\n",
    "\n",
    "            logreg.fit(X_train, y_train.values.ravel())\n",
    "\n",
    "            y_pred = logreg.predict_proba(X_test)\n",
    "\n",
    "            y_pred_1 = np.where(y_pred[:, 1] >= 0.5, 1, 0)\n",
    "\n",
    "            accuracy = accuracy_score(y_test, y_pred_1)\n",
    "            \n",
    "            tmas_vals_test.append(accuracy)\n",
    "\n",
    "            tmp_tmas = [tmas_names[tma-1], accuracy]\n",
    "\n",
    "            tmas_vals_test.append(tmp_tmas)\n",
    "            \n",
    "        if (classifier == 'rf'):\n",
    "            \n",
    "            rf = RandomForestClassifier(n_estimators= 500, random_state= 1234)\n",
    "            \n",
    "            rf.fit(X_train, y_train.values.ravel())\n",
    "            \n",
    "            y_pred_rf = rf.predict(X_test)\n",
    "            \n",
    "            accuracy = accuracy_score(y_test, y_pred_rf)\n",
    "            \n",
    "            tmas_vals_test.append(accuracy)\n",
    "\n",
    "            tmp_tmas = [tmas_names[tma-1], accuracy]\n",
    "\n",
    "            tmas_res_test.append(tmp_tmas)\n",
    "        \n",
    "        if (classifier == 'lasso'):\n",
    "           \n",
    "           print('I am lasso')\n",
    "        \n",
    "         \n",
    "         \n",
    "        \n",
    "    return tmas_vals_test, tmas_res_test  \n",
    "\n",
    "def Average(lst):\n",
    "    return sum(lst) / len(lst)"
   ]
  },
  {
   "cell_type": "code",
   "execution_count": 2,
   "id": "859854bd",
   "metadata": {},
   "outputs": [],
   "source": [
    "# Loading Data from Matlab\n",
    "dataMaldi = read_mat('data/L1-8_tic_ad_sq.mat')\n",
    "\n",
    "X_values = pd.DataFrame(dataMaldi['data_tic'])#Reading the mz-values \n",
    "                                #to get pd's as input for the ml\n",
    "classes = pd.DataFrame(dataMaldi['classes'])#The cancer Typ, result for ml\n",
    "\n",
    "mz_values = pd.DataFrame(dataMaldi['mzVector'])\n",
    "\n",
    "TMAs   = pd.Series(dataMaldi['tmas'])\n",
    "\n",
    "p = X_values.shape[0]\n",
    "\n",
    "y = pd.DataFrame(np.where(classes == 1, 0, 1))"
   ]
  },
  {
   "cell_type": "code",
   "execution_count": 10,
   "id": "af428391",
   "metadata": {},
   "outputs": [],
   "source": [
    "#listOfk = [0.01, 0.05, 0.1, 0.2, 0.25, 0.5]\n",
    "#ListOfXk = getPersistenceTransformation(data_X = X_values, listOfK = listOfk)\n",
    "#X_k1 = ListOfXk[0]\n",
    "#X_k2 = ListOfXk[1]\n",
    "#X_k3 = ListOfXk[2]\n",
    "#X_k4 = ListOfXk[3]\n",
    "#X_k5 = ListOfXk[4]\n",
    "#X_k6 = ListOfXk[5]"
   ]
  },
  {
   "cell_type": "code",
   "execution_count": 11,
   "id": "0eeb5166",
   "metadata": {},
   "outputs": [],
   "source": [
    "#writeSpectraToFile('spectras/sk1.txt', X_k1)\n",
    "#writeSpectraToFile('spectras/sk2.txt', X_k2)\n",
    "#writeSpectraToFile('spectras/sk3.txt', X_k3)\n",
    "#writeSpectraToFile('spectras/sk4.txt', X_k4)\n",
    "#writeSpectraToFile('spectras/sk5.txt', X_k5)\n",
    "#writeSpectraToFile('spectras/sk6.txt', X_k6)"
   ]
  },
  {
   "cell_type": "code",
   "execution_count": 12,
   "id": "1c420e17",
   "metadata": {},
   "outputs": [],
   "source": [
    "X_k1 = readSpectraFromFile('spectras/sk1.txt')\n",
    "X_k2 = readSpectraFromFile('spectras/sk2.txt')\n",
    "X_k3 = readSpectraFromFile('spectras/sk3.txt')\n",
    "X_k4 = readSpectraFromFile('spectras/sk4.txt')\n",
    "X_k5 = readSpectraFromFile('spectras/sk5.txt')\n",
    "X_k6 = readSpectraFromFile('spectras/sk6.txt')"
   ]
  },
  {
   "cell_type": "code",
   "execution_count": 13,
   "id": "452a3248",
   "metadata": {},
   "outputs": [],
   "source": [
    "#s1 = X_values.loc[[22]]\n",
    "#s2 = pd.DataFrame(X_k1).loc[[22]]\n",
    "#s3 = pd.DataFrame(X_k2).loc[[22]]\n",
    "#s4 = pd.DataFrame(X_k5).loc[[22]]"
   ]
  },
  {
   "cell_type": "code",
   "execution_count": 19,
   "id": "39314633",
   "metadata": {},
   "outputs": [
    {
     "name": "stdout",
     "output_type": "stream",
     "text": [
      "5 24 118\n"
     ]
    }
   ],
   "source": [
    "#print(np.count_nonzero(s2), np.count_nonzero(s3), np.count_nonzero(s4))"
   ]
  },
  {
   "cell_type": "code",
   "execution_count": 16,
   "id": "b4dc6eb9",
   "metadata": {},
   "outputs": [
    {
     "ename": "KeyboardInterrupt",
     "evalue": "",
     "output_type": "error",
     "traceback": [
      "\u001b[1;31m---------------------------------------------------------------------------\u001b[0m",
      "\u001b[1;31mKeyboardInterrupt\u001b[0m                         Traceback (most recent call last)",
      "\u001b[1;32m<ipython-input-16-b5ea6ae2bee0>\u001b[0m in \u001b[0;36m<module>\u001b[1;34m\u001b[0m\n\u001b[0;32m      4\u001b[0m \u001b[0mrf_k3_1\u001b[0m\u001b[1;33m,\u001b[0m \u001b[0mrf_k3_2\u001b[0m \u001b[1;33m=\u001b[0m \u001b[0mcvAccuracy\u001b[0m\u001b[1;33m(\u001b[0m\u001b[0mtmas\u001b[0m \u001b[1;33m=\u001b[0m\u001b[0mTMAs\u001b[0m\u001b[1;33m,\u001b[0m \u001b[0mresp\u001b[0m\u001b[1;33m=\u001b[0m\u001b[0my\u001b[0m\u001b[1;33m,\u001b[0m \u001b[0mX\u001b[0m \u001b[1;33m=\u001b[0m \u001b[0mpd\u001b[0m\u001b[1;33m.\u001b[0m\u001b[0mDataFrame\u001b[0m\u001b[1;33m(\u001b[0m\u001b[0mX_k3\u001b[0m\u001b[1;33m)\u001b[0m\u001b[1;33m,\u001b[0m \u001b[0mclassifier\u001b[0m \u001b[1;33m=\u001b[0m \u001b[1;34m'rf'\u001b[0m\u001b[1;33m)\u001b[0m\u001b[1;33m\u001b[0m\u001b[1;33m\u001b[0m\u001b[0m\n\u001b[0;32m      5\u001b[0m \u001b[0mrf_k4_1\u001b[0m\u001b[1;33m,\u001b[0m \u001b[0mrf_k4_2\u001b[0m \u001b[1;33m=\u001b[0m \u001b[0mcvAccuracy\u001b[0m\u001b[1;33m(\u001b[0m\u001b[0mtmas\u001b[0m \u001b[1;33m=\u001b[0m\u001b[0mTMAs\u001b[0m\u001b[1;33m,\u001b[0m \u001b[0mresp\u001b[0m\u001b[1;33m=\u001b[0m\u001b[0my\u001b[0m\u001b[1;33m,\u001b[0m \u001b[0mX\u001b[0m \u001b[1;33m=\u001b[0m \u001b[0mpd\u001b[0m\u001b[1;33m.\u001b[0m\u001b[0mDataFrame\u001b[0m\u001b[1;33m(\u001b[0m\u001b[0mX_k4\u001b[0m\u001b[1;33m)\u001b[0m\u001b[1;33m,\u001b[0m \u001b[0mclassifier\u001b[0m \u001b[1;33m=\u001b[0m \u001b[1;34m'rf'\u001b[0m\u001b[1;33m)\u001b[0m\u001b[1;33m\u001b[0m\u001b[1;33m\u001b[0m\u001b[0m\n\u001b[1;32m----> 6\u001b[1;33m \u001b[0mrf_k5_1\u001b[0m\u001b[1;33m,\u001b[0m \u001b[0mrf_k5_2\u001b[0m \u001b[1;33m=\u001b[0m \u001b[0mcvAccuracy\u001b[0m\u001b[1;33m(\u001b[0m\u001b[0mtmas\u001b[0m \u001b[1;33m=\u001b[0m\u001b[0mTMAs\u001b[0m\u001b[1;33m,\u001b[0m \u001b[0mresp\u001b[0m\u001b[1;33m=\u001b[0m\u001b[0my\u001b[0m\u001b[1;33m,\u001b[0m \u001b[0mX\u001b[0m \u001b[1;33m=\u001b[0m \u001b[0mpd\u001b[0m\u001b[1;33m.\u001b[0m\u001b[0mDataFrame\u001b[0m\u001b[1;33m(\u001b[0m\u001b[0mX_k5\u001b[0m\u001b[1;33m)\u001b[0m\u001b[1;33m,\u001b[0m \u001b[0mclassifier\u001b[0m \u001b[1;33m=\u001b[0m \u001b[1;34m'rf'\u001b[0m\u001b[1;33m)\u001b[0m\u001b[1;33m\u001b[0m\u001b[1;33m\u001b[0m\u001b[0m\n\u001b[0m",
      "\u001b[1;32m<ipython-input-8-dc1a2d5ff5ce>\u001b[0m in \u001b[0;36mcvAccuracy\u001b[1;34m(tmas, X, resp, classifier)\u001b[0m\n\u001b[0;32m     43\u001b[0m             \u001b[0mrf\u001b[0m \u001b[1;33m=\u001b[0m \u001b[0mRandomForestClassifier\u001b[0m\u001b[1;33m(\u001b[0m\u001b[0mn_estimators\u001b[0m\u001b[1;33m=\u001b[0m \u001b[1;36m500\u001b[0m\u001b[1;33m,\u001b[0m \u001b[0mrandom_state\u001b[0m\u001b[1;33m=\u001b[0m \u001b[1;36m1234\u001b[0m\u001b[1;33m)\u001b[0m\u001b[1;33m\u001b[0m\u001b[1;33m\u001b[0m\u001b[0m\n\u001b[0;32m     44\u001b[0m \u001b[1;33m\u001b[0m\u001b[0m\n\u001b[1;32m---> 45\u001b[1;33m             \u001b[0mrf\u001b[0m\u001b[1;33m.\u001b[0m\u001b[0mfit\u001b[0m\u001b[1;33m(\u001b[0m\u001b[0mX_train\u001b[0m\u001b[1;33m,\u001b[0m \u001b[0my_train\u001b[0m\u001b[1;33m.\u001b[0m\u001b[0mvalues\u001b[0m\u001b[1;33m.\u001b[0m\u001b[0mravel\u001b[0m\u001b[1;33m(\u001b[0m\u001b[1;33m)\u001b[0m\u001b[1;33m)\u001b[0m\u001b[1;33m\u001b[0m\u001b[1;33m\u001b[0m\u001b[0m\n\u001b[0m\u001b[0;32m     46\u001b[0m \u001b[1;33m\u001b[0m\u001b[0m\n\u001b[0;32m     47\u001b[0m             \u001b[0my_pred_rf\u001b[0m \u001b[1;33m=\u001b[0m \u001b[0mrf\u001b[0m\u001b[1;33m.\u001b[0m\u001b[0mpredict\u001b[0m\u001b[1;33m(\u001b[0m\u001b[0mX_test\u001b[0m\u001b[1;33m)\u001b[0m\u001b[1;33m\u001b[0m\u001b[1;33m\u001b[0m\u001b[0m\n",
      "\u001b[1;32mD:\\Programme\\Miniconda\\lib\\site-packages\\sklearn\\ensemble\\_forest.py\u001b[0m in \u001b[0;36mfit\u001b[1;34m(self, X, y, sample_weight)\u001b[0m\n\u001b[0;32m    385\u001b[0m             \u001b[1;31m# parallel_backend contexts set at a higher level,\u001b[0m\u001b[1;33m\u001b[0m\u001b[1;33m\u001b[0m\u001b[1;33m\u001b[0m\u001b[0m\n\u001b[0;32m    386\u001b[0m             \u001b[1;31m# since correctness does not rely on using threads.\u001b[0m\u001b[1;33m\u001b[0m\u001b[1;33m\u001b[0m\u001b[1;33m\u001b[0m\u001b[0m\n\u001b[1;32m--> 387\u001b[1;33m             trees = Parallel(n_jobs=self.n_jobs, verbose=self.verbose,\n\u001b[0m\u001b[0;32m    388\u001b[0m                              \u001b[1;33m**\u001b[0m\u001b[0m_joblib_parallel_args\u001b[0m\u001b[1;33m(\u001b[0m\u001b[0mprefer\u001b[0m\u001b[1;33m=\u001b[0m\u001b[1;34m'threads'\u001b[0m\u001b[1;33m)\u001b[0m\u001b[1;33m)\u001b[0m\u001b[1;33m(\u001b[0m\u001b[1;33m\u001b[0m\u001b[1;33m\u001b[0m\u001b[0m\n\u001b[0;32m    389\u001b[0m                 delayed(_parallel_build_trees)(\n",
      "\u001b[1;32mD:\\Programme\\Miniconda\\lib\\site-packages\\joblib\\parallel.py\u001b[0m in \u001b[0;36m__call__\u001b[1;34m(self, iterable)\u001b[0m\n\u001b[0;32m   1042\u001b[0m                 \u001b[0mself\u001b[0m\u001b[1;33m.\u001b[0m\u001b[0m_iterating\u001b[0m \u001b[1;33m=\u001b[0m \u001b[0mself\u001b[0m\u001b[1;33m.\u001b[0m\u001b[0m_original_iterator\u001b[0m \u001b[1;32mis\u001b[0m \u001b[1;32mnot\u001b[0m \u001b[1;32mNone\u001b[0m\u001b[1;33m\u001b[0m\u001b[1;33m\u001b[0m\u001b[0m\n\u001b[0;32m   1043\u001b[0m \u001b[1;33m\u001b[0m\u001b[0m\n\u001b[1;32m-> 1044\u001b[1;33m             \u001b[1;32mwhile\u001b[0m \u001b[0mself\u001b[0m\u001b[1;33m.\u001b[0m\u001b[0mdispatch_one_batch\u001b[0m\u001b[1;33m(\u001b[0m\u001b[0miterator\u001b[0m\u001b[1;33m)\u001b[0m\u001b[1;33m:\u001b[0m\u001b[1;33m\u001b[0m\u001b[1;33m\u001b[0m\u001b[0m\n\u001b[0m\u001b[0;32m   1045\u001b[0m                 \u001b[1;32mpass\u001b[0m\u001b[1;33m\u001b[0m\u001b[1;33m\u001b[0m\u001b[0m\n\u001b[0;32m   1046\u001b[0m \u001b[1;33m\u001b[0m\u001b[0m\n",
      "\u001b[1;32mD:\\Programme\\Miniconda\\lib\\site-packages\\joblib\\parallel.py\u001b[0m in \u001b[0;36mdispatch_one_batch\u001b[1;34m(self, iterator)\u001b[0m\n\u001b[0;32m    857\u001b[0m                 \u001b[1;32mreturn\u001b[0m \u001b[1;32mFalse\u001b[0m\u001b[1;33m\u001b[0m\u001b[1;33m\u001b[0m\u001b[0m\n\u001b[0;32m    858\u001b[0m             \u001b[1;32melse\u001b[0m\u001b[1;33m:\u001b[0m\u001b[1;33m\u001b[0m\u001b[1;33m\u001b[0m\u001b[0m\n\u001b[1;32m--> 859\u001b[1;33m                 \u001b[0mself\u001b[0m\u001b[1;33m.\u001b[0m\u001b[0m_dispatch\u001b[0m\u001b[1;33m(\u001b[0m\u001b[0mtasks\u001b[0m\u001b[1;33m)\u001b[0m\u001b[1;33m\u001b[0m\u001b[1;33m\u001b[0m\u001b[0m\n\u001b[0m\u001b[0;32m    860\u001b[0m                 \u001b[1;32mreturn\u001b[0m \u001b[1;32mTrue\u001b[0m\u001b[1;33m\u001b[0m\u001b[1;33m\u001b[0m\u001b[0m\n\u001b[0;32m    861\u001b[0m \u001b[1;33m\u001b[0m\u001b[0m\n",
      "\u001b[1;32mD:\\Programme\\Miniconda\\lib\\site-packages\\joblib\\parallel.py\u001b[0m in \u001b[0;36m_dispatch\u001b[1;34m(self, batch)\u001b[0m\n\u001b[0;32m    775\u001b[0m         \u001b[1;32mwith\u001b[0m \u001b[0mself\u001b[0m\u001b[1;33m.\u001b[0m\u001b[0m_lock\u001b[0m\u001b[1;33m:\u001b[0m\u001b[1;33m\u001b[0m\u001b[1;33m\u001b[0m\u001b[0m\n\u001b[0;32m    776\u001b[0m             \u001b[0mjob_idx\u001b[0m \u001b[1;33m=\u001b[0m \u001b[0mlen\u001b[0m\u001b[1;33m(\u001b[0m\u001b[0mself\u001b[0m\u001b[1;33m.\u001b[0m\u001b[0m_jobs\u001b[0m\u001b[1;33m)\u001b[0m\u001b[1;33m\u001b[0m\u001b[1;33m\u001b[0m\u001b[0m\n\u001b[1;32m--> 777\u001b[1;33m             \u001b[0mjob\u001b[0m \u001b[1;33m=\u001b[0m \u001b[0mself\u001b[0m\u001b[1;33m.\u001b[0m\u001b[0m_backend\u001b[0m\u001b[1;33m.\u001b[0m\u001b[0mapply_async\u001b[0m\u001b[1;33m(\u001b[0m\u001b[0mbatch\u001b[0m\u001b[1;33m,\u001b[0m \u001b[0mcallback\u001b[0m\u001b[1;33m=\u001b[0m\u001b[0mcb\u001b[0m\u001b[1;33m)\u001b[0m\u001b[1;33m\u001b[0m\u001b[1;33m\u001b[0m\u001b[0m\n\u001b[0m\u001b[0;32m    778\u001b[0m             \u001b[1;31m# A job can complete so quickly than its callback is\u001b[0m\u001b[1;33m\u001b[0m\u001b[1;33m\u001b[0m\u001b[1;33m\u001b[0m\u001b[0m\n\u001b[0;32m    779\u001b[0m             \u001b[1;31m# called before we get here, causing self._jobs to\u001b[0m\u001b[1;33m\u001b[0m\u001b[1;33m\u001b[0m\u001b[1;33m\u001b[0m\u001b[0m\n",
      "\u001b[1;32mD:\\Programme\\Miniconda\\lib\\site-packages\\joblib\\_parallel_backends.py\u001b[0m in \u001b[0;36mapply_async\u001b[1;34m(self, func, callback)\u001b[0m\n\u001b[0;32m    206\u001b[0m     \u001b[1;32mdef\u001b[0m \u001b[0mapply_async\u001b[0m\u001b[1;33m(\u001b[0m\u001b[0mself\u001b[0m\u001b[1;33m,\u001b[0m \u001b[0mfunc\u001b[0m\u001b[1;33m,\u001b[0m \u001b[0mcallback\u001b[0m\u001b[1;33m=\u001b[0m\u001b[1;32mNone\u001b[0m\u001b[1;33m)\u001b[0m\u001b[1;33m:\u001b[0m\u001b[1;33m\u001b[0m\u001b[1;33m\u001b[0m\u001b[0m\n\u001b[0;32m    207\u001b[0m         \u001b[1;34m\"\"\"Schedule a func to be run\"\"\"\u001b[0m\u001b[1;33m\u001b[0m\u001b[1;33m\u001b[0m\u001b[0m\n\u001b[1;32m--> 208\u001b[1;33m         \u001b[0mresult\u001b[0m \u001b[1;33m=\u001b[0m \u001b[0mImmediateResult\u001b[0m\u001b[1;33m(\u001b[0m\u001b[0mfunc\u001b[0m\u001b[1;33m)\u001b[0m\u001b[1;33m\u001b[0m\u001b[1;33m\u001b[0m\u001b[0m\n\u001b[0m\u001b[0;32m    209\u001b[0m         \u001b[1;32mif\u001b[0m \u001b[0mcallback\u001b[0m\u001b[1;33m:\u001b[0m\u001b[1;33m\u001b[0m\u001b[1;33m\u001b[0m\u001b[0m\n\u001b[0;32m    210\u001b[0m             \u001b[0mcallback\u001b[0m\u001b[1;33m(\u001b[0m\u001b[0mresult\u001b[0m\u001b[1;33m)\u001b[0m\u001b[1;33m\u001b[0m\u001b[1;33m\u001b[0m\u001b[0m\n",
      "\u001b[1;32mD:\\Programme\\Miniconda\\lib\\site-packages\\joblib\\_parallel_backends.py\u001b[0m in \u001b[0;36m__init__\u001b[1;34m(self, batch)\u001b[0m\n\u001b[0;32m    570\u001b[0m         \u001b[1;31m# Don't delay the application, to avoid keeping the input\u001b[0m\u001b[1;33m\u001b[0m\u001b[1;33m\u001b[0m\u001b[1;33m\u001b[0m\u001b[0m\n\u001b[0;32m    571\u001b[0m         \u001b[1;31m# arguments in memory\u001b[0m\u001b[1;33m\u001b[0m\u001b[1;33m\u001b[0m\u001b[1;33m\u001b[0m\u001b[0m\n\u001b[1;32m--> 572\u001b[1;33m         \u001b[0mself\u001b[0m\u001b[1;33m.\u001b[0m\u001b[0mresults\u001b[0m \u001b[1;33m=\u001b[0m \u001b[0mbatch\u001b[0m\u001b[1;33m(\u001b[0m\u001b[1;33m)\u001b[0m\u001b[1;33m\u001b[0m\u001b[1;33m\u001b[0m\u001b[0m\n\u001b[0m\u001b[0;32m    573\u001b[0m \u001b[1;33m\u001b[0m\u001b[0m\n\u001b[0;32m    574\u001b[0m     \u001b[1;32mdef\u001b[0m \u001b[0mget\u001b[0m\u001b[1;33m(\u001b[0m\u001b[0mself\u001b[0m\u001b[1;33m)\u001b[0m\u001b[1;33m:\u001b[0m\u001b[1;33m\u001b[0m\u001b[1;33m\u001b[0m\u001b[0m\n",
      "\u001b[1;32mD:\\Programme\\Miniconda\\lib\\site-packages\\joblib\\parallel.py\u001b[0m in \u001b[0;36m__call__\u001b[1;34m(self)\u001b[0m\n\u001b[0;32m    260\u001b[0m         \u001b[1;31m# change the default number of processes to -1\u001b[0m\u001b[1;33m\u001b[0m\u001b[1;33m\u001b[0m\u001b[1;33m\u001b[0m\u001b[0m\n\u001b[0;32m    261\u001b[0m         \u001b[1;32mwith\u001b[0m \u001b[0mparallel_backend\u001b[0m\u001b[1;33m(\u001b[0m\u001b[0mself\u001b[0m\u001b[1;33m.\u001b[0m\u001b[0m_backend\u001b[0m\u001b[1;33m,\u001b[0m \u001b[0mn_jobs\u001b[0m\u001b[1;33m=\u001b[0m\u001b[0mself\u001b[0m\u001b[1;33m.\u001b[0m\u001b[0m_n_jobs\u001b[0m\u001b[1;33m)\u001b[0m\u001b[1;33m:\u001b[0m\u001b[1;33m\u001b[0m\u001b[1;33m\u001b[0m\u001b[0m\n\u001b[1;32m--> 262\u001b[1;33m             return [func(*args, **kwargs)\n\u001b[0m\u001b[0;32m    263\u001b[0m                     for func, args, kwargs in self.items]\n\u001b[0;32m    264\u001b[0m \u001b[1;33m\u001b[0m\u001b[0m\n",
      "\u001b[1;32mD:\\Programme\\Miniconda\\lib\\site-packages\\joblib\\parallel.py\u001b[0m in \u001b[0;36m<listcomp>\u001b[1;34m(.0)\u001b[0m\n\u001b[0;32m    260\u001b[0m         \u001b[1;31m# change the default number of processes to -1\u001b[0m\u001b[1;33m\u001b[0m\u001b[1;33m\u001b[0m\u001b[1;33m\u001b[0m\u001b[0m\n\u001b[0;32m    261\u001b[0m         \u001b[1;32mwith\u001b[0m \u001b[0mparallel_backend\u001b[0m\u001b[1;33m(\u001b[0m\u001b[0mself\u001b[0m\u001b[1;33m.\u001b[0m\u001b[0m_backend\u001b[0m\u001b[1;33m,\u001b[0m \u001b[0mn_jobs\u001b[0m\u001b[1;33m=\u001b[0m\u001b[0mself\u001b[0m\u001b[1;33m.\u001b[0m\u001b[0m_n_jobs\u001b[0m\u001b[1;33m)\u001b[0m\u001b[1;33m:\u001b[0m\u001b[1;33m\u001b[0m\u001b[1;33m\u001b[0m\u001b[0m\n\u001b[1;32m--> 262\u001b[1;33m             return [func(*args, **kwargs)\n\u001b[0m\u001b[0;32m    263\u001b[0m                     for func, args, kwargs in self.items]\n\u001b[0;32m    264\u001b[0m \u001b[1;33m\u001b[0m\u001b[0m\n",
      "\u001b[1;32mD:\\Programme\\Miniconda\\lib\\site-packages\\sklearn\\utils\\fixes.py\u001b[0m in \u001b[0;36m__call__\u001b[1;34m(self, *args, **kwargs)\u001b[0m\n\u001b[0;32m    220\u001b[0m     \u001b[1;32mdef\u001b[0m \u001b[0m__call__\u001b[0m\u001b[1;33m(\u001b[0m\u001b[0mself\u001b[0m\u001b[1;33m,\u001b[0m \u001b[1;33m*\u001b[0m\u001b[0margs\u001b[0m\u001b[1;33m,\u001b[0m \u001b[1;33m**\u001b[0m\u001b[0mkwargs\u001b[0m\u001b[1;33m)\u001b[0m\u001b[1;33m:\u001b[0m\u001b[1;33m\u001b[0m\u001b[1;33m\u001b[0m\u001b[0m\n\u001b[0;32m    221\u001b[0m         \u001b[1;32mwith\u001b[0m \u001b[0mconfig_context\u001b[0m\u001b[1;33m(\u001b[0m\u001b[1;33m**\u001b[0m\u001b[0mself\u001b[0m\u001b[1;33m.\u001b[0m\u001b[0mconfig\u001b[0m\u001b[1;33m)\u001b[0m\u001b[1;33m:\u001b[0m\u001b[1;33m\u001b[0m\u001b[1;33m\u001b[0m\u001b[0m\n\u001b[1;32m--> 222\u001b[1;33m             \u001b[1;32mreturn\u001b[0m \u001b[0mself\u001b[0m\u001b[1;33m.\u001b[0m\u001b[0mfunction\u001b[0m\u001b[1;33m(\u001b[0m\u001b[1;33m*\u001b[0m\u001b[0margs\u001b[0m\u001b[1;33m,\u001b[0m \u001b[1;33m**\u001b[0m\u001b[0mkwargs\u001b[0m\u001b[1;33m)\u001b[0m\u001b[1;33m\u001b[0m\u001b[1;33m\u001b[0m\u001b[0m\n\u001b[0m",
      "\u001b[1;32mD:\\Programme\\Miniconda\\lib\\site-packages\\sklearn\\ensemble\\_forest.py\u001b[0m in \u001b[0;36m_parallel_build_trees\u001b[1;34m(tree, forest, X, y, sample_weight, tree_idx, n_trees, verbose, class_weight, n_samples_bootstrap)\u001b[0m\n\u001b[0;32m    167\u001b[0m                                                         indices=indices)\n\u001b[0;32m    168\u001b[0m \u001b[1;33m\u001b[0m\u001b[0m\n\u001b[1;32m--> 169\u001b[1;33m         \u001b[0mtree\u001b[0m\u001b[1;33m.\u001b[0m\u001b[0mfit\u001b[0m\u001b[1;33m(\u001b[0m\u001b[0mX\u001b[0m\u001b[1;33m,\u001b[0m \u001b[0my\u001b[0m\u001b[1;33m,\u001b[0m \u001b[0msample_weight\u001b[0m\u001b[1;33m=\u001b[0m\u001b[0mcurr_sample_weight\u001b[0m\u001b[1;33m,\u001b[0m \u001b[0mcheck_input\u001b[0m\u001b[1;33m=\u001b[0m\u001b[1;32mFalse\u001b[0m\u001b[1;33m)\u001b[0m\u001b[1;33m\u001b[0m\u001b[1;33m\u001b[0m\u001b[0m\n\u001b[0m\u001b[0;32m    170\u001b[0m     \u001b[1;32melse\u001b[0m\u001b[1;33m:\u001b[0m\u001b[1;33m\u001b[0m\u001b[1;33m\u001b[0m\u001b[0m\n\u001b[0;32m    171\u001b[0m         \u001b[0mtree\u001b[0m\u001b[1;33m.\u001b[0m\u001b[0mfit\u001b[0m\u001b[1;33m(\u001b[0m\u001b[0mX\u001b[0m\u001b[1;33m,\u001b[0m \u001b[0my\u001b[0m\u001b[1;33m,\u001b[0m \u001b[0msample_weight\u001b[0m\u001b[1;33m=\u001b[0m\u001b[0msample_weight\u001b[0m\u001b[1;33m,\u001b[0m \u001b[0mcheck_input\u001b[0m\u001b[1;33m=\u001b[0m\u001b[1;32mFalse\u001b[0m\u001b[1;33m)\u001b[0m\u001b[1;33m\u001b[0m\u001b[1;33m\u001b[0m\u001b[0m\n",
      "\u001b[1;32mD:\\Programme\\Miniconda\\lib\\site-packages\\sklearn\\tree\\_classes.py\u001b[0m in \u001b[0;36mfit\u001b[1;34m(self, X, y, sample_weight, check_input, X_idx_sorted)\u001b[0m\n\u001b[0;32m    896\u001b[0m         \"\"\"\n\u001b[0;32m    897\u001b[0m \u001b[1;33m\u001b[0m\u001b[0m\n\u001b[1;32m--> 898\u001b[1;33m         super().fit(\n\u001b[0m\u001b[0;32m    899\u001b[0m             \u001b[0mX\u001b[0m\u001b[1;33m,\u001b[0m \u001b[0my\u001b[0m\u001b[1;33m,\u001b[0m\u001b[1;33m\u001b[0m\u001b[1;33m\u001b[0m\u001b[0m\n\u001b[0;32m    900\u001b[0m             \u001b[0msample_weight\u001b[0m\u001b[1;33m=\u001b[0m\u001b[0msample_weight\u001b[0m\u001b[1;33m,\u001b[0m\u001b[1;33m\u001b[0m\u001b[1;33m\u001b[0m\u001b[0m\n",
      "\u001b[1;32mD:\\Programme\\Miniconda\\lib\\site-packages\\sklearn\\tree\\_classes.py\u001b[0m in \u001b[0;36mfit\u001b[1;34m(self, X, y, sample_weight, check_input, X_idx_sorted)\u001b[0m\n\u001b[0;32m    387\u001b[0m                                            min_impurity_split)\n\u001b[0;32m    388\u001b[0m \u001b[1;33m\u001b[0m\u001b[0m\n\u001b[1;32m--> 389\u001b[1;33m         \u001b[0mbuilder\u001b[0m\u001b[1;33m.\u001b[0m\u001b[0mbuild\u001b[0m\u001b[1;33m(\u001b[0m\u001b[0mself\u001b[0m\u001b[1;33m.\u001b[0m\u001b[0mtree_\u001b[0m\u001b[1;33m,\u001b[0m \u001b[0mX\u001b[0m\u001b[1;33m,\u001b[0m \u001b[0my\u001b[0m\u001b[1;33m,\u001b[0m \u001b[0msample_weight\u001b[0m\u001b[1;33m)\u001b[0m\u001b[1;33m\u001b[0m\u001b[1;33m\u001b[0m\u001b[0m\n\u001b[0m\u001b[0;32m    390\u001b[0m \u001b[1;33m\u001b[0m\u001b[0m\n\u001b[0;32m    391\u001b[0m         \u001b[1;32mif\u001b[0m \u001b[0mself\u001b[0m\u001b[1;33m.\u001b[0m\u001b[0mn_outputs_\u001b[0m \u001b[1;33m==\u001b[0m \u001b[1;36m1\u001b[0m \u001b[1;32mand\u001b[0m \u001b[0mis_classifier\u001b[0m\u001b[1;33m(\u001b[0m\u001b[0mself\u001b[0m\u001b[1;33m)\u001b[0m\u001b[1;33m:\u001b[0m\u001b[1;33m\u001b[0m\u001b[1;33m\u001b[0m\u001b[0m\n",
      "\u001b[1;31mKeyboardInterrupt\u001b[0m: "
     ]
    }
   ],
   "source": [
    "#rf_raw_1, rf_raw_2 = cvAccuracy(tmas =TMAs, resp=y, X = X_values, classifier='rf')\n",
    "#rf_k1_1, rf_k1_2 = cvAccuracy(tmas =TMAs, resp=y, X = pd.DataFrame(X_k1), classifier = 'rf')\n",
    "#rf_k2_1, rf_k2_2 = cvAccuracy(tmas =TMAs, resp=y, X = pd.DataFrame(X_k2), classifier = 'rf')\n",
    "#rf_k3_1, rf_k3_2 = cvAccuracy(tmas =TMAs, resp=y, X = pd.DataFrame(X_k3), classifier = 'rf')\n",
    "#rf_k4_1, rf_k4_2 = cvAccuracy(tmas =TMAs, resp=y, X = pd.DataFrame(X_k4), classifier = 'rf')\n",
    "#rf_k5_1, rf_k5_2 = cvAccuracy(tmas =TMAs, resp=y, X = pd.DataFrame(X_k5), classifier = 'rf')\n",
    "#rf_k6_1, rf_k6_2 = cvAccuracy(tmas =TMAs, resp=y, X = pd.DataFrame(X_k6), classifier = 'rf')"
   ]
  },
  {
   "cell_type": "code",
   "execution_count": null,
   "id": "e85cee2a",
   "metadata": {},
   "outputs": [],
   "source": [
    "#print(Average(rf_raw_1), Average(rf_k1_1), Average(rf_k2_1), Average(rf_k3_1), Average(rf_k4_1), Average(rf_k5_1), Average(rf_k6_1))"
   ]
  },
  {
   "cell_type": "code",
   "execution_count": 17,
   "id": "b2d2c76e",
   "metadata": {},
   "outputs": [],
   "source": [
    "q1, q2 = cvAccuracy(tmas =TMAs, resp=y, X = X_values, classifier='log')\n",
    "res_k1_1, res_k1_2 = cvAccuracy(tmas =TMAs, resp=y, X = pd.DataFrame(X_k1), classifier = 'log')\n",
    "res_k2_1, res_k2_2 = cvAccuracy(tmas =TMAs, resp=y, X = pd.DataFrame(X_k2), classifier = 'log')\n",
    "res_k3_1, res_k3_2 = cvAccuracy(tmas =TMAs, resp=y, X = pd.DataFrame(X_k3), classifier = 'log')\n",
    "res_k4_1, res_k4_2 = cvAccuracy(tmas =TMAs, resp=y, X = pd.DataFrame(X_k4), classifier = 'log')\n",
    "res_k5_1, res_k5_2 = cvAccuracy(tmas =TMAs, resp=y, X = pd.DataFrame(X_k5), classifier = 'log')\n",
    "res_k6_1, res_k6_2 = cvAccuracy(tmas =TMAs, resp=y, X = pd.DataFrame(X_k6), classifier = 'log')"
   ]
  },
  {
   "cell_type": "code",
   "execution_count": 18,
   "id": "b6e82cdb",
   "metadata": {},
   "outputs": [
    {
     "name": "stdout",
     "output_type": "stream",
     "text": [
      "0.8698572069638756 0.6272784359936528 0.7164709832750971 0.8482808880602064 0.8502476605627579 0.8516264521583992 0.8694357546595985\n"
     ]
    }
   ],
   "source": [
    "print(Average(q1[::2]), Average(res_k1_1[::2]), Average(res_k2_1[::2]),\n",
    "      Average(res_k3_1[::2]), Average(res_k4_1[::2]), Average(res_k5_1[::2]), Average(res_k6_1[::2]))"
   ]
  },
  {
   "cell_type": "code",
   "execution_count": 20,
   "id": "fbbd1466",
   "metadata": {},
   "outputs": [
    {
     "data": {
      "text/plain": [
       "<AxesSubplot:>"
      ]
     },
     "execution_count": 20,
     "metadata": {},
     "output_type": "execute_result"
    },
    {
     "data": {
      "image/png": "[encoded data removed]",
      "text/plain": [
       "<Figure size 432x288 with 1 Axes>"
      ]
     },
     "metadata": {
      "needs_background": "light"
     },
     "output_type": "display_data"
    }
   ],
   "source": [
    "results = pd.concat([pd.Series(q1[::2]), pd.Series(res_k1_1[::2]), pd.Series(res_k2_1[::2]), pd.Series(res_k3_1[::2]), \n",
    "                     pd.Series(res_k4_1[::2]), pd.Series(res_k5_1[::2]),\n",
    "                     pd.Series(res_k6_1[::2])], axis=1)\n",
    "\n",
    "results = pd.DataFrame(results)\n",
    "\n",
    "results.boxplot()\n",
    "#sns.boxplot(results.iloc[:, 0:1])"
   ]
  }
 ],
 "metadata": {
  "kernelspec": {
   "display_name": "Python 3",
   "language": "python",
   "name": "python3"
  },
  "language_info": {
   "codemirror_mode": {
    "name": "ipython",
    "version": 3
   },
   "file_extension": ".py",
   "mimetype": "text/x-python",
   "name": "python",
   "nbconvert_exporter": "python",
   "pygments_lexer": "ipython3",
   "version": "3.8.5"
  }
 },
 "nbformat": 4,
 "nbformat_minor": 5
}
